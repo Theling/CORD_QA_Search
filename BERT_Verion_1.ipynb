{
 "cells": [
  {
   "cell_type": "markdown",
   "metadata": {},
   "source": [
    "## Covid -19 Question and Answer with Bert"
   ]
  },
  {
   "cell_type": "code",
   "execution_count": 1,
   "metadata": {},
   "outputs": [],
   "source": [
    "from transformers import BertForQuestionAnswering\n",
    "from transformers import BertTokenizer\n",
    "from transformers import BartTokenizer, BartForConditionalGeneration\n",
    "import os\n",
    "os.environ[\"JAVA_HOME\"] = \"/usr/lib/jvm/jdk-11.0.2\"\n",
    "import pandas as pd\n",
    "from pyserini.search import pysearch\n",
    "import numpy as np\n",
    "from BERT_func import BERT_SQUAD_QA\n",
    "import json\n",
    "import tensorflow as tf\n",
    "import tensorflow_hub as hub\n",
    "import math"
   ]
  },
  {
   "cell_type": "markdown",
   "metadata": {},
   "source": [
    "## Introduction"
   ]
  },
  {
   "cell_type": "markdown",
   "metadata": {},
   "source": [
    "## Methodology\n",
    "\n",
    "### Bert"
   ]
  },
  {
   "cell_type": "markdown",
   "metadata": {},
   "source": [
    "## Contribution\n",
    "* 1.\n",
    "* 2.\n",
    "* 3."
   ]
  },
  {
   "cell_type": "markdown",
   "metadata": {},
   "source": [
    "## Setup Envirnment"
   ]
  },
  {
   "cell_type": "code",
   "execution_count": 2,
   "metadata": {},
   "outputs": [],
   "source": [
    "torch_device = 'cpu'\n",
    "minDate = '2020/04/02'\n",
    "luceneDir = 'lucene-index-covid-2020-04-03/'"
   ]
  },
  {
   "cell_type": "markdown",
   "metadata": {},
   "source": []
  },
  {
   "cell_type": "code",
   "execution_count": 3,
   "metadata": {},
   "outputs": [
    {
     "data": {
      "text/plain": [
       "BertForQuestionAnswering(\n",
       "  (bert): BertModel(\n",
       "    (embeddings): BertEmbeddings(\n",
       "      (word_embeddings): Embedding(30522, 1024, padding_idx=0)\n",
       "      (position_embeddings): Embedding(512, 1024)\n",
       "      (token_type_embeddings): Embedding(2, 1024)\n",
       "      (LayerNorm): LayerNorm((1024,), eps=1e-12, elementwise_affine=True)\n",
       "      (dropout): Dropout(p=0.1, inplace=False)\n",
       "    )\n",
       "    (encoder): BertEncoder(\n",
       "      (layer): ModuleList(\n",
       "        (0): BertLayer(\n",
       "          (attention): BertAttention(\n",
       "            (self): BertSelfAttention(\n",
       "              (query): Linear(in_features=1024, out_features=1024, bias=True)\n",
       "              (key): Linear(in_features=1024, out_features=1024, bias=True)\n",
       "              (value): Linear(in_features=1024, out_features=1024, bias=True)\n",
       "              (dropout): Dropout(p=0.1, inplace=False)\n",
       "            )\n",
       "            (output): BertSelfOutput(\n",
       "              (dense): Linear(in_features=1024, out_features=1024, bias=True)\n",
       "              (LayerNorm): LayerNorm((1024,), eps=1e-12, elementwise_affine=True)\n",
       "              (dropout): Dropout(p=0.1, inplace=False)\n",
       "            )\n",
       "          )\n",
       "          (intermediate): BertIntermediate(\n",
       "            (dense): Linear(in_features=1024, out_features=4096, bias=True)\n",
       "          )\n",
       "          (output): BertOutput(\n",
       "            (dense): Linear(in_features=4096, out_features=1024, bias=True)\n",
       "            (LayerNorm): LayerNorm((1024,), eps=1e-12, elementwise_affine=True)\n",
       "            (dropout): Dropout(p=0.1, inplace=False)\n",
       "          )\n",
       "        )\n",
       "        (1): BertLayer(\n",
       "          (attention): BertAttention(\n",
       "            (self): BertSelfAttention(\n",
       "              (query): Linear(in_features=1024, out_features=1024, bias=True)\n",
       "              (key): Linear(in_features=1024, out_features=1024, bias=True)\n",
       "              (value): Linear(in_features=1024, out_features=1024, bias=True)\n",
       "              (dropout): Dropout(p=0.1, inplace=False)\n",
       "            )\n",
       "            (output): BertSelfOutput(\n",
       "              (dense): Linear(in_features=1024, out_features=1024, bias=True)\n",
       "              (LayerNorm): LayerNorm((1024,), eps=1e-12, elementwise_affine=True)\n",
       "              (dropout): Dropout(p=0.1, inplace=False)\n",
       "            )\n",
       "          )\n",
       "          (intermediate): BertIntermediate(\n",
       "            (dense): Linear(in_features=1024, out_features=4096, bias=True)\n",
       "          )\n",
       "          (output): BertOutput(\n",
       "            (dense): Linear(in_features=4096, out_features=1024, bias=True)\n",
       "            (LayerNorm): LayerNorm((1024,), eps=1e-12, elementwise_affine=True)\n",
       "            (dropout): Dropout(p=0.1, inplace=False)\n",
       "          )\n",
       "        )\n",
       "        (2): BertLayer(\n",
       "          (attention): BertAttention(\n",
       "            (self): BertSelfAttention(\n",
       "              (query): Linear(in_features=1024, out_features=1024, bias=True)\n",
       "              (key): Linear(in_features=1024, out_features=1024, bias=True)\n",
       "              (value): Linear(in_features=1024, out_features=1024, bias=True)\n",
       "              (dropout): Dropout(p=0.1, inplace=False)\n",
       "            )\n",
       "            (output): BertSelfOutput(\n",
       "              (dense): Linear(in_features=1024, out_features=1024, bias=True)\n",
       "              (LayerNorm): LayerNorm((1024,), eps=1e-12, elementwise_affine=True)\n",
       "              (dropout): Dropout(p=0.1, inplace=False)\n",
       "            )\n",
       "          )\n",
       "          (intermediate): BertIntermediate(\n",
       "            (dense): Linear(in_features=1024, out_features=4096, bias=True)\n",
       "          )\n",
       "          (output): BertOutput(\n",
       "            (dense): Linear(in_features=4096, out_features=1024, bias=True)\n",
       "            (LayerNorm): LayerNorm((1024,), eps=1e-12, elementwise_affine=True)\n",
       "            (dropout): Dropout(p=0.1, inplace=False)\n",
       "          )\n",
       "        )\n",
       "        (3): BertLayer(\n",
       "          (attention): BertAttention(\n",
       "            (self): BertSelfAttention(\n",
       "              (query): Linear(in_features=1024, out_features=1024, bias=True)\n",
       "              (key): Linear(in_features=1024, out_features=1024, bias=True)\n",
       "              (value): Linear(in_features=1024, out_features=1024, bias=True)\n",
       "              (dropout): Dropout(p=0.1, inplace=False)\n",
       "            )\n",
       "            (output): BertSelfOutput(\n",
       "              (dense): Linear(in_features=1024, out_features=1024, bias=True)\n",
       "              (LayerNorm): LayerNorm((1024,), eps=1e-12, elementwise_affine=True)\n",
       "              (dropout): Dropout(p=0.1, inplace=False)\n",
       "            )\n",
       "          )\n",
       "          (intermediate): BertIntermediate(\n",
       "            (dense): Linear(in_features=1024, out_features=4096, bias=True)\n",
       "          )\n",
       "          (output): BertOutput(\n",
       "            (dense): Linear(in_features=4096, out_features=1024, bias=True)\n",
       "            (LayerNorm): LayerNorm((1024,), eps=1e-12, elementwise_affine=True)\n",
       "            (dropout): Dropout(p=0.1, inplace=False)\n",
       "          )\n",
       "        )\n",
       "        (4): BertLayer(\n",
       "          (attention): BertAttention(\n",
       "            (self): BertSelfAttention(\n",
       "              (query): Linear(in_features=1024, out_features=1024, bias=True)\n",
       "              (key): Linear(in_features=1024, out_features=1024, bias=True)\n",
       "              (value): Linear(in_features=1024, out_features=1024, bias=True)\n",
       "              (dropout): Dropout(p=0.1, inplace=False)\n",
       "            )\n",
       "            (output): BertSelfOutput(\n",
       "              (dense): Linear(in_features=1024, out_features=1024, bias=True)\n",
       "              (LayerNorm): LayerNorm((1024,), eps=1e-12, elementwise_affine=True)\n",
       "              (dropout): Dropout(p=0.1, inplace=False)\n",
       "            )\n",
       "          )\n",
       "          (intermediate): BertIntermediate(\n",
       "            (dense): Linear(in_features=1024, out_features=4096, bias=True)\n",
       "          )\n",
       "          (output): BertOutput(\n",
       "            (dense): Linear(in_features=4096, out_features=1024, bias=True)\n",
       "            (LayerNorm): LayerNorm((1024,), eps=1e-12, elementwise_affine=True)\n",
       "            (dropout): Dropout(p=0.1, inplace=False)\n",
       "          )\n",
       "        )\n",
       "        (5): BertLayer(\n",
       "          (attention): BertAttention(\n",
       "            (self): BertSelfAttention(\n",
       "              (query): Linear(in_features=1024, out_features=1024, bias=True)\n",
       "              (key): Linear(in_features=1024, out_features=1024, bias=True)\n",
       "              (value): Linear(in_features=1024, out_features=1024, bias=True)\n",
       "              (dropout): Dropout(p=0.1, inplace=False)\n",
       "            )\n",
       "            (output): BertSelfOutput(\n",
       "              (dense): Linear(in_features=1024, out_features=1024, bias=True)\n",
       "              (LayerNorm): LayerNorm((1024,), eps=1e-12, elementwise_affine=True)\n",
       "              (dropout): Dropout(p=0.1, inplace=False)\n",
       "            )\n",
       "          )\n",
       "          (intermediate): BertIntermediate(\n",
       "            (dense): Linear(in_features=1024, out_features=4096, bias=True)\n",
       "          )\n",
       "          (output): BertOutput(\n",
       "            (dense): Linear(in_features=4096, out_features=1024, bias=True)\n",
       "            (LayerNorm): LayerNorm((1024,), eps=1e-12, elementwise_affine=True)\n",
       "            (dropout): Dropout(p=0.1, inplace=False)\n",
       "          )\n",
       "        )\n",
       "        (6): BertLayer(\n",
       "          (attention): BertAttention(\n",
       "            (self): BertSelfAttention(\n",
       "              (query): Linear(in_features=1024, out_features=1024, bias=True)\n",
       "              (key): Linear(in_features=1024, out_features=1024, bias=True)\n",
       "              (value): Linear(in_features=1024, out_features=1024, bias=True)\n",
       "              (dropout): Dropout(p=0.1, inplace=False)\n",
       "            )\n",
       "            (output): BertSelfOutput(\n",
       "              (dense): Linear(in_features=1024, out_features=1024, bias=True)\n",
       "              (LayerNorm): LayerNorm((1024,), eps=1e-12, elementwise_affine=True)\n",
       "              (dropout): Dropout(p=0.1, inplace=False)\n",
       "            )\n",
       "          )\n",
       "          (intermediate): BertIntermediate(\n",
       "            (dense): Linear(in_features=1024, out_features=4096, bias=True)\n",
       "          )\n",
       "          (output): BertOutput(\n",
       "            (dense): Linear(in_features=4096, out_features=1024, bias=True)\n",
       "            (LayerNorm): LayerNorm((1024,), eps=1e-12, elementwise_affine=True)\n",
       "            (dropout): Dropout(p=0.1, inplace=False)\n",
       "          )\n",
       "        )\n",
       "        (7): BertLayer(\n",
       "          (attention): BertAttention(\n",
       "            (self): BertSelfAttention(\n",
       "              (query): Linear(in_features=1024, out_features=1024, bias=True)\n",
       "              (key): Linear(in_features=1024, out_features=1024, bias=True)\n",
       "              (value): Linear(in_features=1024, out_features=1024, bias=True)\n",
       "              (dropout): Dropout(p=0.1, inplace=False)\n",
       "            )\n",
       "            (output): BertSelfOutput(\n",
       "              (dense): Linear(in_features=1024, out_features=1024, bias=True)\n",
       "              (LayerNorm): LayerNorm((1024,), eps=1e-12, elementwise_affine=True)\n",
       "              (dropout): Dropout(p=0.1, inplace=False)\n",
       "            )\n",
       "          )\n",
       "          (intermediate): BertIntermediate(\n",
       "            (dense): Linear(in_features=1024, out_features=4096, bias=True)\n",
       "          )\n",
       "          (output): BertOutput(\n",
       "            (dense): Linear(in_features=4096, out_features=1024, bias=True)\n",
       "            (LayerNorm): LayerNorm((1024,), eps=1e-12, elementwise_affine=True)\n",
       "            (dropout): Dropout(p=0.1, inplace=False)\n",
       "          )\n",
       "        )\n",
       "        (8): BertLayer(\n",
       "          (attention): BertAttention(\n",
       "            (self): BertSelfAttention(\n",
       "              (query): Linear(in_features=1024, out_features=1024, bias=True)\n",
       "              (key): Linear(in_features=1024, out_features=1024, bias=True)\n",
       "              (value): Linear(in_features=1024, out_features=1024, bias=True)\n",
       "              (dropout): Dropout(p=0.1, inplace=False)\n",
       "            )\n",
       "            (output): BertSelfOutput(\n",
       "              (dense): Linear(in_features=1024, out_features=1024, bias=True)\n",
       "              (LayerNorm): LayerNorm((1024,), eps=1e-12, elementwise_affine=True)\n",
       "              (dropout): Dropout(p=0.1, inplace=False)\n",
       "            )\n",
       "          )\n",
       "          (intermediate): BertIntermediate(\n",
       "            (dense): Linear(in_features=1024, out_features=4096, bias=True)\n",
       "          )\n",
       "          (output): BertOutput(\n",
       "            (dense): Linear(in_features=4096, out_features=1024, bias=True)\n",
       "            (LayerNorm): LayerNorm((1024,), eps=1e-12, elementwise_affine=True)\n",
       "            (dropout): Dropout(p=0.1, inplace=False)\n",
       "          )\n",
       "        )\n",
       "        (9): BertLayer(\n",
       "          (attention): BertAttention(\n",
       "            (self): BertSelfAttention(\n",
       "              (query): Linear(in_features=1024, out_features=1024, bias=True)\n",
       "              (key): Linear(in_features=1024, out_features=1024, bias=True)\n",
       "              (value): Linear(in_features=1024, out_features=1024, bias=True)\n",
       "              (dropout): Dropout(p=0.1, inplace=False)\n",
       "            )\n",
       "            (output): BertSelfOutput(\n",
       "              (dense): Linear(in_features=1024, out_features=1024, bias=True)\n",
       "              (LayerNorm): LayerNorm((1024,), eps=1e-12, elementwise_affine=True)\n",
       "              (dropout): Dropout(p=0.1, inplace=False)\n",
       "            )\n",
       "          )\n",
       "          (intermediate): BertIntermediate(\n",
       "            (dense): Linear(in_features=1024, out_features=4096, bias=True)\n",
       "          )\n",
       "          (output): BertOutput(\n",
       "            (dense): Linear(in_features=4096, out_features=1024, bias=True)\n",
       "            (LayerNorm): LayerNorm((1024,), eps=1e-12, elementwise_affine=True)\n",
       "            (dropout): Dropout(p=0.1, inplace=False)\n",
       "          )\n",
       "        )\n",
       "        (10): BertLayer(\n",
       "          (attention): BertAttention(\n",
       "            (self): BertSelfAttention(\n",
       "              (query): Linear(in_features=1024, out_features=1024, bias=True)\n",
       "              (key): Linear(in_features=1024, out_features=1024, bias=True)\n",
       "              (value): Linear(in_features=1024, out_features=1024, bias=True)\n",
       "              (dropout): Dropout(p=0.1, inplace=False)\n",
       "            )\n",
       "            (output): BertSelfOutput(\n",
       "              (dense): Linear(in_features=1024, out_features=1024, bias=True)\n",
       "              (LayerNorm): LayerNorm((1024,), eps=1e-12, elementwise_affine=True)\n",
       "              (dropout): Dropout(p=0.1, inplace=False)\n",
       "            )\n",
       "          )\n",
       "          (intermediate): BertIntermediate(\n",
       "            (dense): Linear(in_features=1024, out_features=4096, bias=True)\n",
       "          )\n",
       "          (output): BertOutput(\n",
       "            (dense): Linear(in_features=4096, out_features=1024, bias=True)\n",
       "            (LayerNorm): LayerNorm((1024,), eps=1e-12, elementwise_affine=True)\n",
       "            (dropout): Dropout(p=0.1, inplace=False)\n",
       "          )\n",
       "        )\n",
       "        (11): BertLayer(\n",
       "          (attention): BertAttention(\n",
       "            (self): BertSelfAttention(\n",
       "              (query): Linear(in_features=1024, out_features=1024, bias=True)\n",
       "              (key): Linear(in_features=1024, out_features=1024, bias=True)\n",
       "              (value): Linear(in_features=1024, out_features=1024, bias=True)\n",
       "              (dropout): Dropout(p=0.1, inplace=False)\n",
       "            )\n",
       "            (output): BertSelfOutput(\n",
       "              (dense): Linear(in_features=1024, out_features=1024, bias=True)\n",
       "              (LayerNorm): LayerNorm((1024,), eps=1e-12, elementwise_affine=True)\n",
       "              (dropout): Dropout(p=0.1, inplace=False)\n",
       "            )\n",
       "          )\n",
       "          (intermediate): BertIntermediate(\n",
       "            (dense): Linear(in_features=1024, out_features=4096, bias=True)\n",
       "          )\n",
       "          (output): BertOutput(\n",
       "            (dense): Linear(in_features=4096, out_features=1024, bias=True)\n",
       "            (LayerNorm): LayerNorm((1024,), eps=1e-12, elementwise_affine=True)\n",
       "            (dropout): Dropout(p=0.1, inplace=False)\n",
       "          )\n",
       "        )\n",
       "        (12): BertLayer(\n",
       "          (attention): BertAttention(\n",
       "            (self): BertSelfAttention(\n",
       "              (query): Linear(in_features=1024, out_features=1024, bias=True)\n",
       "              (key): Linear(in_features=1024, out_features=1024, bias=True)\n",
       "              (value): Linear(in_features=1024, out_features=1024, bias=True)\n",
       "              (dropout): Dropout(p=0.1, inplace=False)\n",
       "            )\n",
       "            (output): BertSelfOutput(\n",
       "              (dense): Linear(in_features=1024, out_features=1024, bias=True)\n",
       "              (LayerNorm): LayerNorm((1024,), eps=1e-12, elementwise_affine=True)\n",
       "              (dropout): Dropout(p=0.1, inplace=False)\n",
       "            )\n",
       "          )\n",
       "          (intermediate): BertIntermediate(\n",
       "            (dense): Linear(in_features=1024, out_features=4096, bias=True)\n",
       "          )\n",
       "          (output): BertOutput(\n",
       "            (dense): Linear(in_features=4096, out_features=1024, bias=True)\n",
       "            (LayerNorm): LayerNorm((1024,), eps=1e-12, elementwise_affine=True)\n",
       "            (dropout): Dropout(p=0.1, inplace=False)\n",
       "          )\n",
       "        )\n",
       "        (13): BertLayer(\n",
       "          (attention): BertAttention(\n",
       "            (self): BertSelfAttention(\n",
       "              (query): Linear(in_features=1024, out_features=1024, bias=True)\n",
       "              (key): Linear(in_features=1024, out_features=1024, bias=True)\n",
       "              (value): Linear(in_features=1024, out_features=1024, bias=True)\n",
       "              (dropout): Dropout(p=0.1, inplace=False)\n",
       "            )\n",
       "            (output): BertSelfOutput(\n",
       "              (dense): Linear(in_features=1024, out_features=1024, bias=True)\n",
       "              (LayerNorm): LayerNorm((1024,), eps=1e-12, elementwise_affine=True)\n",
       "              (dropout): Dropout(p=0.1, inplace=False)\n",
       "            )\n",
       "          )\n",
       "          (intermediate): BertIntermediate(\n",
       "            (dense): Linear(in_features=1024, out_features=4096, bias=True)\n",
       "          )\n",
       "          (output): BertOutput(\n",
       "            (dense): Linear(in_features=4096, out_features=1024, bias=True)\n",
       "            (LayerNorm): LayerNorm((1024,), eps=1e-12, elementwise_affine=True)\n",
       "            (dropout): Dropout(p=0.1, inplace=False)\n",
       "          )\n",
       "        )\n",
       "        (14): BertLayer(\n",
       "          (attention): BertAttention(\n",
       "            (self): BertSelfAttention(\n",
       "              (query): Linear(in_features=1024, out_features=1024, bias=True)\n",
       "              (key): Linear(in_features=1024, out_features=1024, bias=True)\n",
       "              (value): Linear(in_features=1024, out_features=1024, bias=True)\n",
       "              (dropout): Dropout(p=0.1, inplace=False)\n",
       "            )\n",
       "            (output): BertSelfOutput(\n",
       "              (dense): Linear(in_features=1024, out_features=1024, bias=True)\n",
       "              (LayerNorm): LayerNorm((1024,), eps=1e-12, elementwise_affine=True)\n",
       "              (dropout): Dropout(p=0.1, inplace=False)\n",
       "            )\n",
       "          )\n",
       "          (intermediate): BertIntermediate(\n",
       "            (dense): Linear(in_features=1024, out_features=4096, bias=True)\n",
       "          )\n",
       "          (output): BertOutput(\n",
       "            (dense): Linear(in_features=4096, out_features=1024, bias=True)\n",
       "            (LayerNorm): LayerNorm((1024,), eps=1e-12, elementwise_affine=True)\n",
       "            (dropout): Dropout(p=0.1, inplace=False)\n",
       "          )\n",
       "        )\n",
       "        (15): BertLayer(\n",
       "          (attention): BertAttention(\n",
       "            (self): BertSelfAttention(\n",
       "              (query): Linear(in_features=1024, out_features=1024, bias=True)\n",
       "              (key): Linear(in_features=1024, out_features=1024, bias=True)\n",
       "              (value): Linear(in_features=1024, out_features=1024, bias=True)\n",
       "              (dropout): Dropout(p=0.1, inplace=False)\n",
       "            )\n",
       "            (output): BertSelfOutput(\n",
       "              (dense): Linear(in_features=1024, out_features=1024, bias=True)\n",
       "              (LayerNorm): LayerNorm((1024,), eps=1e-12, elementwise_affine=True)\n",
       "              (dropout): Dropout(p=0.1, inplace=False)\n",
       "            )\n",
       "          )\n",
       "          (intermediate): BertIntermediate(\n",
       "            (dense): Linear(in_features=1024, out_features=4096, bias=True)\n",
       "          )\n",
       "          (output): BertOutput(\n",
       "            (dense): Linear(in_features=4096, out_features=1024, bias=True)\n",
       "            (LayerNorm): LayerNorm((1024,), eps=1e-12, elementwise_affine=True)\n",
       "            (dropout): Dropout(p=0.1, inplace=False)\n",
       "          )\n",
       "        )\n",
       "        (16): BertLayer(\n",
       "          (attention): BertAttention(\n",
       "            (self): BertSelfAttention(\n",
       "              (query): Linear(in_features=1024, out_features=1024, bias=True)\n",
       "              (key): Linear(in_features=1024, out_features=1024, bias=True)\n",
       "              (value): Linear(in_features=1024, out_features=1024, bias=True)\n",
       "              (dropout): Dropout(p=0.1, inplace=False)\n",
       "            )\n",
       "            (output): BertSelfOutput(\n",
       "              (dense): Linear(in_features=1024, out_features=1024, bias=True)\n",
       "              (LayerNorm): LayerNorm((1024,), eps=1e-12, elementwise_affine=True)\n",
       "              (dropout): Dropout(p=0.1, inplace=False)\n",
       "            )\n",
       "          )\n",
       "          (intermediate): BertIntermediate(\n",
       "            (dense): Linear(in_features=1024, out_features=4096, bias=True)\n",
       "          )\n",
       "          (output): BertOutput(\n",
       "            (dense): Linear(in_features=4096, out_features=1024, bias=True)\n",
       "            (LayerNorm): LayerNorm((1024,), eps=1e-12, elementwise_affine=True)\n",
       "            (dropout): Dropout(p=0.1, inplace=False)\n",
       "          )\n",
       "        )\n",
       "        (17): BertLayer(\n",
       "          (attention): BertAttention(\n",
       "            (self): BertSelfAttention(\n",
       "              (query): Linear(in_features=1024, out_features=1024, bias=True)\n",
       "              (key): Linear(in_features=1024, out_features=1024, bias=True)\n",
       "              (value): Linear(in_features=1024, out_features=1024, bias=True)\n",
       "              (dropout): Dropout(p=0.1, inplace=False)\n",
       "            )\n",
       "            (output): BertSelfOutput(\n",
       "              (dense): Linear(in_features=1024, out_features=1024, bias=True)\n",
       "              (LayerNorm): LayerNorm((1024,), eps=1e-12, elementwise_affine=True)\n",
       "              (dropout): Dropout(p=0.1, inplace=False)\n",
       "            )\n",
       "          )\n",
       "          (intermediate): BertIntermediate(\n",
       "            (dense): Linear(in_features=1024, out_features=4096, bias=True)\n",
       "          )\n",
       "          (output): BertOutput(\n",
       "            (dense): Linear(in_features=4096, out_features=1024, bias=True)\n",
       "            (LayerNorm): LayerNorm((1024,), eps=1e-12, elementwise_affine=True)\n",
       "            (dropout): Dropout(p=0.1, inplace=False)\n",
       "          )\n",
       "        )\n",
       "        (18): BertLayer(\n",
       "          (attention): BertAttention(\n",
       "            (self): BertSelfAttention(\n",
       "              (query): Linear(in_features=1024, out_features=1024, bias=True)\n",
       "              (key): Linear(in_features=1024, out_features=1024, bias=True)\n",
       "              (value): Linear(in_features=1024, out_features=1024, bias=True)\n",
       "              (dropout): Dropout(p=0.1, inplace=False)\n",
       "            )\n",
       "            (output): BertSelfOutput(\n",
       "              (dense): Linear(in_features=1024, out_features=1024, bias=True)\n",
       "              (LayerNorm): LayerNorm((1024,), eps=1e-12, elementwise_affine=True)\n",
       "              (dropout): Dropout(p=0.1, inplace=False)\n",
       "            )\n",
       "          )\n",
       "          (intermediate): BertIntermediate(\n",
       "            (dense): Linear(in_features=1024, out_features=4096, bias=True)\n",
       "          )\n",
       "          (output): BertOutput(\n",
       "            (dense): Linear(in_features=4096, out_features=1024, bias=True)\n",
       "            (LayerNorm): LayerNorm((1024,), eps=1e-12, elementwise_affine=True)\n",
       "            (dropout): Dropout(p=0.1, inplace=False)\n",
       "          )\n",
       "        )\n",
       "        (19): BertLayer(\n",
       "          (attention): BertAttention(\n",
       "            (self): BertSelfAttention(\n",
       "              (query): Linear(in_features=1024, out_features=1024, bias=True)\n",
       "              (key): Linear(in_features=1024, out_features=1024, bias=True)\n",
       "              (value): Linear(in_features=1024, out_features=1024, bias=True)\n",
       "              (dropout): Dropout(p=0.1, inplace=False)\n",
       "            )\n",
       "            (output): BertSelfOutput(\n",
       "              (dense): Linear(in_features=1024, out_features=1024, bias=True)\n",
       "              (LayerNorm): LayerNorm((1024,), eps=1e-12, elementwise_affine=True)\n",
       "              (dropout): Dropout(p=0.1, inplace=False)\n",
       "            )\n",
       "          )\n",
       "          (intermediate): BertIntermediate(\n",
       "            (dense): Linear(in_features=1024, out_features=4096, bias=True)\n",
       "          )\n",
       "          (output): BertOutput(\n",
       "            (dense): Linear(in_features=4096, out_features=1024, bias=True)\n",
       "            (LayerNorm): LayerNorm((1024,), eps=1e-12, elementwise_affine=True)\n",
       "            (dropout): Dropout(p=0.1, inplace=False)\n",
       "          )\n",
       "        )\n",
       "        (20): BertLayer(\n",
       "          (attention): BertAttention(\n",
       "            (self): BertSelfAttention(\n",
       "              (query): Linear(in_features=1024, out_features=1024, bias=True)\n",
       "              (key): Linear(in_features=1024, out_features=1024, bias=True)\n",
       "              (value): Linear(in_features=1024, out_features=1024, bias=True)\n",
       "              (dropout): Dropout(p=0.1, inplace=False)\n",
       "            )\n",
       "            (output): BertSelfOutput(\n",
       "              (dense): Linear(in_features=1024, out_features=1024, bias=True)\n",
       "              (LayerNorm): LayerNorm((1024,), eps=1e-12, elementwise_affine=True)\n",
       "              (dropout): Dropout(p=0.1, inplace=False)\n",
       "            )\n",
       "          )\n",
       "          (intermediate): BertIntermediate(\n",
       "            (dense): Linear(in_features=1024, out_features=4096, bias=True)\n",
       "          )\n",
       "          (output): BertOutput(\n",
       "            (dense): Linear(in_features=4096, out_features=1024, bias=True)\n",
       "            (LayerNorm): LayerNorm((1024,), eps=1e-12, elementwise_affine=True)\n",
       "            (dropout): Dropout(p=0.1, inplace=False)\n",
       "          )\n",
       "        )\n",
       "        (21): BertLayer(\n",
       "          (attention): BertAttention(\n",
       "            (self): BertSelfAttention(\n",
       "              (query): Linear(in_features=1024, out_features=1024, bias=True)\n",
       "              (key): Linear(in_features=1024, out_features=1024, bias=True)\n",
       "              (value): Linear(in_features=1024, out_features=1024, bias=True)\n",
       "              (dropout): Dropout(p=0.1, inplace=False)\n",
       "            )\n",
       "            (output): BertSelfOutput(\n",
       "              (dense): Linear(in_features=1024, out_features=1024, bias=True)\n",
       "              (LayerNorm): LayerNorm((1024,), eps=1e-12, elementwise_affine=True)\n",
       "              (dropout): Dropout(p=0.1, inplace=False)\n",
       "            )\n",
       "          )\n",
       "          (intermediate): BertIntermediate(\n",
       "            (dense): Linear(in_features=1024, out_features=4096, bias=True)\n",
       "          )\n",
       "          (output): BertOutput(\n",
       "            (dense): Linear(in_features=4096, out_features=1024, bias=True)\n",
       "            (LayerNorm): LayerNorm((1024,), eps=1e-12, elementwise_affine=True)\n",
       "            (dropout): Dropout(p=0.1, inplace=False)\n",
       "          )\n",
       "        )\n",
       "        (22): BertLayer(\n",
       "          (attention): BertAttention(\n",
       "            (self): BertSelfAttention(\n",
       "              (query): Linear(in_features=1024, out_features=1024, bias=True)\n",
       "              (key): Linear(in_features=1024, out_features=1024, bias=True)\n",
       "              (value): Linear(in_features=1024, out_features=1024, bias=True)\n",
       "              (dropout): Dropout(p=0.1, inplace=False)\n",
       "            )\n",
       "            (output): BertSelfOutput(\n",
       "              (dense): Linear(in_features=1024, out_features=1024, bias=True)\n",
       "              (LayerNorm): LayerNorm((1024,), eps=1e-12, elementwise_affine=True)\n",
       "              (dropout): Dropout(p=0.1, inplace=False)\n",
       "            )\n",
       "          )\n",
       "          (intermediate): BertIntermediate(\n",
       "            (dense): Linear(in_features=1024, out_features=4096, bias=True)\n",
       "          )\n",
       "          (output): BertOutput(\n",
       "            (dense): Linear(in_features=4096, out_features=1024, bias=True)\n",
       "            (LayerNorm): LayerNorm((1024,), eps=1e-12, elementwise_affine=True)\n",
       "            (dropout): Dropout(p=0.1, inplace=False)\n",
       "          )\n",
       "        )\n",
       "        (23): BertLayer(\n",
       "          (attention): BertAttention(\n",
       "            (self): BertSelfAttention(\n",
       "              (query): Linear(in_features=1024, out_features=1024, bias=True)\n",
       "              (key): Linear(in_features=1024, out_features=1024, bias=True)\n",
       "              (value): Linear(in_features=1024, out_features=1024, bias=True)\n",
       "              (dropout): Dropout(p=0.1, inplace=False)\n",
       "            )\n",
       "            (output): BertSelfOutput(\n",
       "              (dense): Linear(in_features=1024, out_features=1024, bias=True)\n",
       "              (LayerNorm): LayerNorm((1024,), eps=1e-12, elementwise_affine=True)\n",
       "              (dropout): Dropout(p=0.1, inplace=False)\n",
       "            )\n",
       "          )\n",
       "          (intermediate): BertIntermediate(\n",
       "            (dense): Linear(in_features=1024, out_features=4096, bias=True)\n",
       "          )\n",
       "          (output): BertOutput(\n",
       "            (dense): Linear(in_features=4096, out_features=1024, bias=True)\n",
       "            (LayerNorm): LayerNorm((1024,), eps=1e-12, elementwise_affine=True)\n",
       "            (dropout): Dropout(p=0.1, inplace=False)\n",
       "          )\n",
       "        )\n",
       "      )\n",
       "    )\n",
       "    (pooler): BertPooler(\n",
       "      (dense): Linear(in_features=1024, out_features=1024, bias=True)\n",
       "      (activation): Tanh()\n",
       "    )\n",
       "  )\n",
       "  (qa_outputs): Linear(in_features=1024, out_features=2, bias=True)\n",
       ")"
      ]
     },
     "execution_count": 3,
     "metadata": {},
     "output_type": "execute_result"
    }
   ],
   "source": [
    "QA_MODEL = BertForQuestionAnswering.from_pretrained('bert-large-uncased-whole-word-masking-finetuned-squad')\n",
    "QA_TOKENIZER = BertTokenizer.from_pretrained('bert-large-uncased-whole-word-masking-finetuned-squad')\n",
    "QA_MODEL.to(torch_device)\n",
    "QA_MODEL.eval()"
   ]
  },
  {
   "cell_type": "markdown",
   "metadata": {},
   "source": [
    "## Embbeding Method"
   ]
  },
  {
   "cell_type": "code",
   "execution_count": 4,
   "metadata": {},
   "outputs": [
    {
     "name": "stdout",
     "output_type": "stream",
     "text": [
      "INFO:tensorflow:Saver not created because there are no variables in the graph to restore\n",
      "INFO:tensorflow:Graph was finalized.\n",
      "INFO:tensorflow:Running local_init_op.\n",
      "INFO:tensorflow:Done running local_init_op.\n"
     ]
    }
   ],
   "source": [
    "def embed_useT(module):\n",
    "    with tf.Graph().as_default():\n",
    "        sentences = tf.compat.v1.placeholder(tf.string)\n",
    "        embed = hub.Module(module)\n",
    "        embeddings = embed(sentences)\n",
    "        session = tf.compat.v1.train.MonitoredSession()\n",
    "    return lambda x: session.run(embeddings, {sentences: x})\n",
    "embed_fn = embed_useT('./kaggle/working/sentence_wise_email/module/module_useT')"
   ]
  },
  {
   "cell_type": "markdown",
   "metadata": {},
   "source": [
    "## Display the result"
   ]
  },
  {
   "cell_type": "code",
   "execution_count": 5,
   "metadata": {},
   "outputs": [],
   "source": [
    "workingPath = '/kaggle/working'\n",
    "import pandas as pd\n",
    "from IPython.core.display import display, HTML\n",
    "\n",
    "#from summarizer import Summarizer\n",
    "#summarizerModel = Summarizer()\n",
    "def displayResults(hit_dictionary, answers, question, abst):\n",
    "    \n",
    "    question_HTML = '<div style=\"font-family: Times New Roman; font-size: 28px; padding-bottom:28px\"><b>Query</b>: '+question+'</div>'\n",
    "    #all_HTML_txt = question_HTML\n",
    "    confidence = list(answers.keys())\n",
    "    confidence.sort(reverse=True)\n",
    "    \n",
    "    confidence = list(answers.keys())\n",
    "    confidence.sort(reverse=True)\n",
    "    \n",
    "\n",
    "    for c in confidence:\n",
    "        if c>0 and c <= 1 and len(answers[c]['answer']) != 0:\n",
    "            rowData = []\n",
    "#             idx = answers[c]['idx']\n",
    "#             title = hit_dictionary[idx]['title']\n",
    "#             authors = hit_dictionary[idx]['authors'] + ' et al.'\n",
    "\n",
    "            \n",
    "            full_abs = answers[c]['abstract_bert']\n",
    "            bert_ans = answers[c]['answer']\n",
    "            #print(full_abs)\n",
    "            \n",
    "            \n",
    "            split_abs = full_abs.split(bert_ans)\n",
    "            sentance_beginning = split_abs[0][split_abs[0].rfind('.')+1:]\n",
    "            #print (sentance_beginning)\n",
    "            if len(split_abs) == 1:\n",
    "                sentance_end_pos = len(full_abs)\n",
    "                sentance_end =''\n",
    "            else:\n",
    "                sentance_end_pos = split_abs[1].find('. ')+1\n",
    "                if sentance_end_pos == 0:\n",
    "                    sentance_end = split_abs[1]\n",
    "                else:\n",
    "                    sentance_end = split_abs[1][:sentance_end_pos]\n",
    "                \n",
    "            #sentance_full = sentance_beginning + bert_ans+ sentance_end\n",
    "            answers[c]['full_answer'] = sentance_beginning+bert_ans+sentance_end\n",
    "            answers[c]['sentence_beginning'] = sentance_beginning\n",
    "            answers[c]['sentence_end'] = sentance_end\n",
    "            #answers[c]['title'] = title\n",
    "            #answers[c]['doi'] = doi\n",
    "        else:\n",
    "            answers.pop(c)\n",
    "            \n",
    "    #print(list(answers.keys()))\n",
    "    \n",
    "    ## now rerank based on semantic similarity of the answers to the question\n",
    "    cList = list(answers.keys())\n",
    "    allAnswers = [answers[c]['full_answer'] for c in cList]\n",
    "    #print('all:', allAnswers)\n",
    "    \n",
    "    messages = [question]+allAnswers\n",
    "    \n",
    "    encoding_matrix = embed_fn(messages)\n",
    "    similarity_matrix = np.inner(encoding_matrix, encoding_matrix)\n",
    "    rankings = similarity_matrix[1:,0]\n",
    "    \n",
    "    for i,c in enumerate(cList):\n",
    "        answers[rankings[i]] = answers.pop(c)\n",
    "    \n",
    "    ## now form pandas dv\n",
    "    confidence = list(answers.keys())\n",
    "    confidence.sort(reverse=True)\n",
    "    pandasData = []\n",
    "    ranked_aswers = []\n",
    "    for c in confidence:\n",
    "        rowData=[]\n",
    "        title = answers[c]['title']\n",
    "        author = answers[c]['author']\n",
    "        doi = None\n",
    "        #idx = answers[c]['idx']\n",
    "        #rowData += [idx]            \n",
    "        sentance_html = '<div>' +answers[c]['sentence_beginning'] + \" <font color='red'>\"+answers[c]['answer']+\"</font> \"+answers[c]['sentence_end']+'</div>'\n",
    "        #print (sentance_html)\n",
    "        rowData += [title,author, sentance_html, c]\n",
    "        pandasData.append(rowData)\n",
    "        ranked_aswers.append(' '.join([answers[c]['full_answer']]))\n",
    "    \n",
    "    pdata2 = pandasData\n",
    "        \n",
    "    \n",
    "    display(HTML(question_HTML))\n",
    "    \n",
    "    df = pd.DataFrame(pdata2, columns = ['Title','Authors', 'BERT-SQuAD Answer with Highlights', 'Confidence'])\n",
    "    tit = '_'.join(question.split(' '))\n",
    "    if abst:\n",
    "        df.to_csv('./result/Abs+' + tit + '.csv')\n",
    "        print('Search with only Abstract')\n",
    "    else:\n",
    "        df.to_csv('./result/Full+' + tit + '.csv')\n",
    "        print ('Search with full paper')\n",
    "        \n",
    "    display(HTML(df.to_html(render_links=True, escape=False)))\n",
    "    \n"
   ]
  },
  {
   "cell_type": "code",
   "execution_count": 25,
   "metadata": {},
   "outputs": [],
   "source": [
    "def Display_all(query, keywords, abst):\n",
    "    \n",
    "    #search with luceneDir database by anserini\n",
    "    searcher = pysearch.SimpleSearcher(luceneDir)\n",
    "    hits = searcher.search(query + '. ' + keywords)\n",
    "    n_hits = len(hits)\n",
    "    \n",
    "    #get database by ourselves\n",
    "    with open('database.json', 'r') as fp:\n",
    "        database = json.loads(fp.read())\n",
    "        \n",
    "    ID = []\n",
    "    for i in range(0, n_hits):\n",
    "        doc_json = json.loads(hits[i].raw)\n",
    "        try:\n",
    "            ID.append(doc_json['paper_id'])\n",
    "        except:\n",
    "            pass\n",
    "        \n",
    "    database_df = pd.DataFrame(database).T\n",
    "    \n",
    "    database_df['abs_text'] = database_df.abstract+ database_df['full-text']\n",
    "    \n",
    "    #match with own database\n",
    "    ID_real = []\n",
    "    for Id in ID:\n",
    "        if abst:\n",
    "            if Id in database and ~database_df.loc[Id].isna().abstract:\n",
    "                #print(database_df.loc[Id].isna().abstract)\n",
    "                ID_real.append(Id)\n",
    "        else:\n",
    "            if Id in database and ~database_df.loc[Id].isna()['full-text']:\n",
    "                ID_real.append(Id)\n",
    "            \n",
    "    #print (ID_real)\n",
    "    \n",
    "    hit_dictionary = database_df.loc[ID_real].to_dict('index')\n",
    "    \n",
    "    QA_model = BERT_SQUAD_QA(QA_TOKENIZER, QA_MODEL)\n",
    "    ans = QA_model.search_abstracts(hit_dictionary, query, abst)\n",
    "    \n",
    "    displayResults(hit_dictionary, ans, query, abst)\n",
    "        "
   ]
  },
  {
   "cell_type": "code",
   "execution_count": 29,
   "metadata": {},
   "outputs": [],
   "source": [
    "all_topics=[\n",
    "    'What is known about transmission, incubation, and environmental stability?',\n",
    "    'What do we know about COVID-19 risk factors?',\n",
    "    'What do we know about virus genetics, origin, and evolution?',\n",
    "    'What do we know about vaccines and therapeutics?',\n",
    "    'What do we know about non-pharmaceutical interventions?',\n",
    "    'What has been published about medical care?',\n",
    "    'What do we know about diagnostics and surveillance?',\n",
    "    'What has been published about information sharing and inter-sectoral collaboration?',\n",
    "    'What has been published about ethical and social science considerations?'\n",
    "]\n",
    "topic_area = {}\n",
    "\n",
    "#0\n",
    "#What is known about transmission, incubation, and environmental stability?\n",
    "question_list = []\n",
    "kw_list = []\n",
    "pm_kw_list = []\n",
    "question_list.append(\"What is known about transmission, incubation, and environmental stability\")\n",
    "kw_list.append(\"2019-nCoV, COVID-19, coronavirus, person to person,touch,temperature, human to human, humidity, interpersonal contact,, transmission, shedding\")\n",
    "\n",
    "\n",
    "\n",
    "topic_area['What is known about transmission, incubation, and environmental stability?'] = list(zip(question_list,kw_list))\n",
    "\n",
    "\n",
    "\n",
    "#1\n",
    "#What do we know about COVID-19 risk factors?\n",
    "question_list = []\n",
    "kw_list = []\n",
    "\n",
    "question_list.append(\"What risk factors contribute to the severity of 2019-nCoV\")\n",
    "kw_list.append(\"2019-nCoV, COVID-19, coronavirus, novel coronavirus, susceptible, neonates, pregnant, socio-economic, behavioral, age, elderly, young, old, children\")\n",
    "\n",
    "\n",
    "topic_area['What do we know about COVID-19 risk factors?'] = list(zip(question_list,kw_list))\n",
    "\n",
    "\n",
    "#2\n",
    "#What do we know about virus genetics, origin, and evolution?\n",
    "question_list = []\n",
    "kw_list = []\n",
    "\n",
    "\n",
    "question_list.append(\"What animal did 2019-nCoV come from\")\n",
    "kw_list.append(\"2019-nCoV, SARS-CoV-2, COVID-19, coronavirus, novel coronavirus, animals, zoonotic, farm, spillover, animal to human, bats, snakes, exotic animals\")\n",
    "\n",
    "\n",
    "topic_area['What do we know about virus genetics, origin, and evolution?'] = list(zip(question_list,kw_list))\n",
    "\n",
    "#3\n",
    "#What do we know about vaccines and therapeutics?\n",
    "question_list = []\n",
    "kw_list = []\n",
    "pm_kw_list = []\n",
    "question_list.append(\"What drugs or therapies or antiviral are being investigated and recommended\")\n",
    "kw_list.append(\"2019-nCoV,  COVID-19, coronavirus, novel coronavirus, drug, antiviral, testing, clinical trial, study\")\n",
    "\n",
    "\n",
    "topic_area['What do we know about vaccines and therapeutics?'] = list(zip(question_list,kw_list))\n",
    "\n",
    "\n",
    "#4\n",
    "#What do we know about non-pharmaceutical interventions?\n",
    "question_list = []\n",
    "kw_list = []\n",
    "question_list.append(\"Which non-pharmaceutical interventions limit tramsission\")\n",
    "kw_list.append(\"2019-nCoV, SARS-CoV-2, COVID-19, non-pharmaceutical interventions, npi\")\n",
    "\n",
    "\n",
    "topic_area['What do we know about non-pharmaceutical interventions?'] = list(zip(question_list,kw_list))\n",
    "\n",
    "#5\n",
    "#What has been published about medical care?\n",
    "question_list = []\n",
    "kw_list = []\n",
    "\n",
    "\n",
    "question_list.append(\"What adjunctive or supportive methods can help patients\")\n",
    "kw_list.append(\"2019-nCoV, SARS-CoV-2, COVID-19, adjunctive, supportive, extracorporeal membrane oxygenation, ecmo\")\n",
    "\n",
    "\n",
    "topic_area['What has been published about medical care?'] = list(zip(question_list,kw_list))\n",
    "\n",
    "#6\n",
    "#What do we know about diagnostics and surveillance?\n",
    "question_list = []\n",
    "kw_list = []\n",
    "question_list.append(\"What diagnostic tests (tools) exist or are being developed to detect 2019-nCoV\")\n",
    "kw_list.append(\"2019-nCoV, SARS-CoV-2, COVID-19, coronavirus, novel coronavirus, diagnosis, tools, detetion, testing, throughput\")\n",
    "\n",
    "topic_area['What do we know about diagnostics and surveillance?'] = list(zip(question_list,kw_list))\n",
    "\n",
    "\n",
    "\n",
    "#7\n",
    "#What has been published about information sharing and inter-sectoral collaboration?\n",
    "question_list = []\n",
    "kw_list = []\n",
    "\n",
    "question_list.append('What collaborations are happening within the research community')\n",
    "kw_list.append('inter-sectorial, international, collaboration, global, coronavirus, novel coronavirus, sharing')\n",
    "\n",
    "\n",
    "topic_area['What has been published about information sharing and inter-sectoral collaboration?'] = list(zip(question_list,kw_list))\n",
    "\n",
    "\n",
    "#8\n",
    "#What has been published about ethical and social science considerations?\n",
    "question_list = []\n",
    "kw_list = []\n",
    "\n",
    "\n",
    "question_list.append(\"What are the major ethical issues related pandemic outbreaks\")\n",
    "kw_list.append(\"ehtics, pandemic, caregivers, health care workers, social media\")\n",
    "\n",
    "\n",
    "topic_area['What has been published about ethical and social science considerations?'] = list(zip(question_list,kw_list))\n",
    "\n",
    "\n"
   ]
  },
  {
   "cell_type": "code",
   "execution_count": 13,
   "metadata": {},
   "outputs": [],
   "source": [
    "# with open('database.json', 'r') as fp:\n",
    "#     database = json.loads(fp.read())\n",
    "\n",
    "# database_df = pd.DataFrame(database).T\n",
    "\n",
    "# database_df['abs_text'] = database_df.abstract+ database_df['full-text']"
   ]
  },
  {
   "cell_type": "code",
   "execution_count": 30,
   "metadata": {},
   "outputs": [
    {
     "name": "stderr",
     "output_type": "stream",
     "text": [
      "\n",
      "  0%|          | 0/1 [00:00<?, ?it/s]\u001b[A\n",
      "100%|██████████| 1/1 [00:00<00:00,  1.63it/s]\u001b[A\n"
     ]
    },
    {
     "data": {
      "text/html": [
       "<div style=\"font-family: Times New Roman; font-size: 28px; padding-bottom:28px\"><b>Query</b>: What is known about transmission, incubation, and environmental stability</div>"
      ],
      "text/plain": [
       "<IPython.core.display.HTML object>"
      ]
     },
     "metadata": {},
     "output_type": "display_data"
    },
    {
     "name": "stdout",
     "output_type": "stream",
     "text": [
      "Search with only Abstract\n"
     ]
    },
    {
     "data": {
      "text/html": [
       "<table border=\"1\" class=\"dataframe\">\n",
       "  <thead>\n",
       "    <tr style=\"text-align: right;\">\n",
       "      <th></th>\n",
       "      <th>Title</th>\n",
       "      <th>Authors</th>\n",
       "      <th>BERT-SQuAD Answer with Highlights</th>\n",
       "      <th>Confidence</th>\n",
       "    </tr>\n",
       "  </thead>\n",
       "  <tbody>\n",
       "    <tr>\n",
       "      <th>0</th>\n",
       "      <td>Isolation and identification of human coronavirus 229E from frequently touched environmental surfaces of a university classroom that is cleaned daily</td>\n",
       "      <td>Tania Bonny</td>\n",
       "      <td><div> tests of a cov-229e laboratory strain under conditions that simulated the ambient light, temperature, and relative humidity conditions of the classroom revealed that some of the virus remained viable on various surfaces for 7 days, suggesting  <font color='red'>cov-229e is relatively stable in the environment. our findings reinforce the notion that contact transmission may be possible for this virus.</font> </div></td>\n",
       "      <td>0.482045</td>\n",
       "    </tr>\n",
       "  </tbody>\n",
       "</table>"
      ],
      "text/plain": [
       "<IPython.core.display.HTML object>"
      ]
     },
     "metadata": {},
     "output_type": "display_data"
    },
    {
     "name": "stderr",
     "output_type": "stream",
     "text": [
      "\n",
      "  0%|          | 0/5 [00:00<?, ?it/s]\u001b[AToken indices sequence length is longer than the specified maximum sequence length for this model (849 > 512). Running this sequence through the model will result in indexing errors\n",
      "\n",
      " 20%|██        | 1/5 [00:04<00:17,  4.36s/it]\u001b[AToken indices sequence length is longer than the specified maximum sequence length for this model (4621 > 512). Running this sequence through the model will result in indexing errors\n",
      "\n",
      " 40%|████      | 2/5 [00:29<00:31, 10.46s/it]\u001b[AToken indices sequence length is longer than the specified maximum sequence length for this model (3838 > 512). Running this sequence through the model will result in indexing errors\n",
      "\n",
      " 60%|██████    | 3/5 [00:49<00:26, 13.47s/it]\u001b[AToken indices sequence length is longer than the specified maximum sequence length for this model (1607 > 512). Running this sequence through the model will result in indexing errors\n",
      "\n",
      " 80%|████████  | 4/5 [00:58<00:11, 11.97s/it]\u001b[AToken indices sequence length is longer than the specified maximum sequence length for this model (2704 > 512). Running this sequence through the model will result in indexing errors\n",
      "\n",
      "100%|██████████| 5/5 [01:12<00:00, 14.53s/it]\u001b[A\n"
     ]
    },
    {
     "data": {
      "text/html": [
       "<div style=\"font-family: Times New Roman; font-size: 28px; padding-bottom:28px\"><b>Query</b>: What is known about transmission, incubation, and environmental stability</div>"
      ],
      "text/plain": [
       "<IPython.core.display.HTML object>"
      ]
     },
     "metadata": {},
     "output_type": "display_data"
    },
    {
     "name": "stdout",
     "output_type": "stream",
     "text": [
      "Search with full paper\n"
     ]
    },
    {
     "data": {
      "text/html": [
       "<table border=\"1\" class=\"dataframe\">\n",
       "  <thead>\n",
       "    <tr style=\"text-align: right;\">\n",
       "      <th></th>\n",
       "      <th>Title</th>\n",
       "      <th>Authors</th>\n",
       "      <th>BERT-SQuAD Answer with Highlights</th>\n",
       "      <th>Confidence</th>\n",
       "    </tr>\n",
       "  </thead>\n",
       "  <tbody>\n",
       "  </tbody>\n",
       "</table>"
      ],
      "text/plain": [
       "<IPython.core.display.HTML object>"
      ]
     },
     "metadata": {},
     "output_type": "display_data"
    }
   ],
   "source": [
    "i = all_topics[0]\n",
    "Display_all(topic_area[i][0][0], topic_area[i][0][1], abst = True)\n",
    "Display_all(topic_area[i][0][0], topic_area[i][0][1], abst = False)"
   ]
  },
  {
   "cell_type": "code",
   "execution_count": 31,
   "metadata": {},
   "outputs": [
    {
     "name": "stderr",
     "output_type": "stream",
     "text": [
      "\n",
      "  0%|          | 0/2 [00:00<?, ?it/s]\u001b[A\n",
      " 50%|█████     | 1/2 [00:00<00:00,  3.30it/s]\u001b[A\n",
      "100%|██████████| 2/2 [00:00<00:00,  3.14it/s]\u001b[A\n"
     ]
    },
    {
     "data": {
      "text/html": [
       "<div style=\"font-family: Times New Roman; font-size: 28px; padding-bottom:28px\"><b>Query</b>: What risk factors contribute to the severity of 2019-nCoV</div>"
      ],
      "text/plain": [
       "<IPython.core.display.HTML object>"
      ]
     },
     "metadata": {},
     "output_type": "display_data"
    },
    {
     "name": "stdout",
     "output_type": "stream",
     "text": [
      "Search with only Abstract\n"
     ]
    },
    {
     "data": {
      "text/html": [
       "<table border=\"1\" class=\"dataframe\">\n",
       "  <thead>\n",
       "    <tr style=\"text-align: right;\">\n",
       "      <th></th>\n",
       "      <th>Title</th>\n",
       "      <th>Authors</th>\n",
       "      <th>BERT-SQuAD Answer with Highlights</th>\n",
       "      <th>Confidence</th>\n",
       "    </tr>\n",
       "  </thead>\n",
       "  <tbody>\n",
       "    <tr>\n",
       "      <th>0</th>\n",
       "      <td>Neutrophil-to-Lymphocyte Ratio Predicts Severe Illness Patients with 2019 Novel Coronavirus in the Early Stage</td>\n",
       "      <td>Jingyuan Liu</td>\n",
       "      <td><div> we aimed to select the most useful  <font color='red'>prognostic factor</font>  for severe illness incidence.</div></td>\n",
       "      <td>0.505464</td>\n",
       "    </tr>\n",
       "    <tr>\n",
       "      <th>1</th>\n",
       "      <td>Risks of Novel Coronavirus Disease (COVID-19) in Preg- nancy; a Narrative Review</td>\n",
       "      <td>Latif Panahi</td>\n",
       "      <td><div>introduction : the outbreak of the new coronavirus in china in december 2019 and subsequently in various countries around the world has raised concerns about the possibility of  <font color='red'>vertical transmission of the virus from mother to fetus</font> .</div></td>\n",
       "      <td>0.339814</td>\n",
       "    </tr>\n",
       "  </tbody>\n",
       "</table>"
      ],
      "text/plain": [
       "<IPython.core.display.HTML object>"
      ]
     },
     "metadata": {},
     "output_type": "display_data"
    },
    {
     "name": "stderr",
     "output_type": "stream",
     "text": [
      "\n",
      "  0%|          | 0/2 [00:00<?, ?it/s]\u001b[AToken indices sequence length is longer than the specified maximum sequence length for this model (3461 > 512). Running this sequence through the model will result in indexing errors\n",
      "\n",
      " 50%|█████     | 1/2 [00:18<00:18, 18.17s/it]\u001b[AToken indices sequence length is longer than the specified maximum sequence length for this model (2407 > 512). Running this sequence through the model will result in indexing errors\n",
      "\n",
      "100%|██████████| 2/2 [00:30<00:00, 15.49s/it]\u001b[A\n"
     ]
    },
    {
     "data": {
      "text/html": [
       "<div style=\"font-family: Times New Roman; font-size: 28px; padding-bottom:28px\"><b>Query</b>: What risk factors contribute to the severity of 2019-nCoV</div>"
      ],
      "text/plain": [
       "<IPython.core.display.HTML object>"
      ]
     },
     "metadata": {},
     "output_type": "display_data"
    },
    {
     "name": "stdout",
     "output_type": "stream",
     "text": [
      "Search with full paper\n"
     ]
    },
    {
     "data": {
      "text/html": [
       "<table border=\"1\" class=\"dataframe\">\n",
       "  <thead>\n",
       "    <tr style=\"text-align: right;\">\n",
       "      <th></th>\n",
       "      <th>Title</th>\n",
       "      <th>Authors</th>\n",
       "      <th>BERT-SQuAD Answer with Highlights</th>\n",
       "      <th>Confidence</th>\n",
       "    </tr>\n",
       "  </thead>\n",
       "  <tbody>\n",
       "    <tr>\n",
       "      <th>0</th>\n",
       "      <td>Neutrophil-to-Lymphocyte Ratio Predicts Severe Illness Patients with 2019 Novel Coronavirus in the Early Stage</td>\n",
       "      <td>Jingyuan Liu</td>\n",
       "      <td><div> <font color='red'>early identification of risk factors for severe illness facilitated appropriate supportive care and promptly access to the intensive care unit (icu) if necessary</font> </div></td>\n",
       "      <td>0.465735</td>\n",
       "    </tr>\n",
       "  </tbody>\n",
       "</table>"
      ],
      "text/plain": [
       "<IPython.core.display.HTML object>"
      ]
     },
     "metadata": {},
     "output_type": "display_data"
    }
   ],
   "source": [
    "i = all_topics[1]\n",
    "Display_all(topic_area[i][0][0], topic_area[i][0][1], abst = True)\n",
    "Display_all(topic_area[i][0][0], topic_area[i][0][1], abst = False)"
   ]
  },
  {
   "cell_type": "code",
   "execution_count": 32,
   "metadata": {},
   "outputs": [
    {
     "name": "stderr",
     "output_type": "stream",
     "text": [
      "\n",
      "  0%|          | 0/6 [00:00<?, ?it/s]\u001b[A\n",
      " 17%|█▋        | 1/6 [00:01<00:05,  1.09s/it]\u001b[A\n",
      " 33%|███▎      | 2/6 [00:01<00:03,  1.01it/s]\u001b[A\n",
      " 50%|█████     | 3/6 [00:02<00:02,  1.29it/s]\u001b[AToken indices sequence length is longer than the specified maximum sequence length for this model (736 > 512). Running this sequence through the model will result in indexing errors\n",
      "\n",
      " 67%|██████▋   | 4/6 [00:05<00:03,  1.67s/it]\u001b[A\n",
      " 83%|████████▎ | 5/6 [00:07<00:01,  1.72s/it]\u001b[A\n",
      "100%|██████████| 6/6 [00:08<00:00,  1.38s/it]\u001b[A\n"
     ]
    },
    {
     "data": {
      "text/html": [
       "<div style=\"font-family: Times New Roman; font-size: 28px; padding-bottom:28px\"><b>Query</b>: What animal did 2019-nCoV come from</div>"
      ],
      "text/plain": [
       "<IPython.core.display.HTML object>"
      ]
     },
     "metadata": {},
     "output_type": "display_data"
    },
    {
     "name": "stdout",
     "output_type": "stream",
     "text": [
      "Search with only Abstract\n"
     ]
    },
    {
     "data": {
      "text/html": [
       "<table border=\"1\" class=\"dataframe\">\n",
       "  <thead>\n",
       "    <tr style=\"text-align: right;\">\n",
       "      <th></th>\n",
       "      <th>Title</th>\n",
       "      <th>Authors</th>\n",
       "      <th>BERT-SQuAD Answer with Highlights</th>\n",
       "      <th>Confidence</th>\n",
       "    </tr>\n",
       "  </thead>\n",
       "  <tbody>\n",
       "    <tr>\n",
       "      <th>0</th>\n",
       "      <td>Outbreak 2019-nCoV (Wuhan virus), a novel Coronavirus: human-to-human transmission, travel-related cases, and vaccine readiness</td>\n",
       "      <td>Robyn Ralph</td>\n",
       "      <td><div> with a seemingly comparable chain of events as the origin of sars-cov, the initial infections with 2019-ncov appears to be linked to contact with animals in  <font color='red'>wet markets</font> .</div></td>\n",
       "      <td>0.423477</td>\n",
       "    </tr>\n",
       "    <tr>\n",
       "      <th>1</th>\n",
       "      <td>Consensus statement The species Severe acute respiratory syndrome- related coronavirus: classifying 2019-nCoV and naming it SARS-CoV-2 Coronaviridae Study Group of the International Committee on Taxonomy of Viruses*</td>\n",
       "      <td>Info missed</td>\n",
       "      <td><div> based on phylogeny, taxonomy and established practice, the csg recognizes this virus as forming a sister clade to the prototype human and  <font color='red'>bat</font>  severe acute respiratory syndrome corona -</div></td>\n",
       "      <td>0.380103</td>\n",
       "    </tr>\n",
       "    <tr>\n",
       "      <th>2</th>\n",
       "      <td></td>\n",
       "      <td>Ping Liu</td>\n",
       "      <td><div>the outbreak of 2019-ncov pneumonia in the city of wuhan, china has resulted in more than 70,000 laboratory confirmed cases, and recent studies showed that 2019-ncov (sars-cov-2) could be of  <font color='red'>bat</font>  origin but involve other potential intermediate hosts.</div></td>\n",
       "      <td>0.327245</td>\n",
       "    </tr>\n",
       "    <tr>\n",
       "      <th>3</th>\n",
       "      <td>Emerging novel coronavirus (2019-nCoV)-current scenario, evolutionary perspective based on genome analysis and recent developments</td>\n",
       "      <td>Yashpal Singh Malik</td>\n",
       "      <td><div>coronaviruses are the well-known cause of severe respiratory, enteric and systemic infections in a wide range of hosts including man,  <font color='red'>mammals, fish, and avian</font> .</div></td>\n",
       "      <td>0.280161</td>\n",
       "    </tr>\n",
       "    <tr>\n",
       "      <th>4</th>\n",
       "      <td>Genomic characterisation and epidemiology of 2019 novel coronavirus: implications for virus origins and receptor binding</td>\n",
       "      <td>Roujian Lu</td>\n",
       "      <td><div> as of jan 26,2020, more than 2000 cases of 2019-ncov infection have been confirmed, most of which involved people living in or visiting wuhan, and  <font color='red'>human</font> -to-</div></td>\n",
       "      <td>0.142267</td>\n",
       "    </tr>\n",
       "  </tbody>\n",
       "</table>"
      ],
      "text/plain": [
       "<IPython.core.display.HTML object>"
      ]
     },
     "metadata": {},
     "output_type": "display_data"
    },
    {
     "name": "stderr",
     "output_type": "stream",
     "text": [
      "\n",
      "  0%|          | 0/8 [00:00<?, ?it/s]\u001b[AToken indices sequence length is longer than the specified maximum sequence length for this model (3822 > 512). Running this sequence through the model will result in indexing errors\n",
      "\n",
      " 12%|█▎        | 1/8 [00:20<02:20, 20.01s/it]\u001b[AToken indices sequence length is longer than the specified maximum sequence length for this model (6509 > 512). Running this sequence through the model will result in indexing errors\n",
      "\n",
      " 25%|██▌       | 2/8 [00:54<02:25, 24.24s/it]\u001b[AToken indices sequence length is longer than the specified maximum sequence length for this model (6860 > 512). Running this sequence through the model will result in indexing errors\n",
      "\n",
      " 38%|███▊      | 3/8 [01:30<02:19, 27.83s/it]\u001b[AToken indices sequence length is longer than the specified maximum sequence length for this model (4428 > 512). Running this sequence through the model will result in indexing errors\n",
      "\n",
      " 50%|█████     | 4/8 [01:53<01:45, 26.40s/it]\u001b[AToken indices sequence length is longer than the specified maximum sequence length for this model (7531 > 512). Running this sequence through the model will result in indexing errors\n",
      "\n",
      " 62%|██████▎   | 5/8 [02:32<01:30, 30.32s/it]\u001b[AToken indices sequence length is longer than the specified maximum sequence length for this model (15394 > 512). Running this sequence through the model will result in indexing errors\n",
      "\n",
      " 75%|███████▌  | 6/8 [03:53<01:30, 45.45s/it]\u001b[AToken indices sequence length is longer than the specified maximum sequence length for this model (3295 > 512). Running this sequence through the model will result in indexing errors\n",
      "\n",
      " 88%|████████▊ | 7/8 [04:11<00:37, 37.04s/it]\u001b[AToken indices sequence length is longer than the specified maximum sequence length for this model (6109 > 512). Running this sequence through the model will result in indexing errors\n",
      "\n",
      "100%|██████████| 8/8 [04:43<00:00, 35.39s/it]\u001b[A\n"
     ]
    },
    {
     "data": {
      "text/html": [
       "<div style=\"font-family: Times New Roman; font-size: 28px; padding-bottom:28px\"><b>Query</b>: What animal did 2019-nCoV come from</div>"
      ],
      "text/plain": [
       "<IPython.core.display.HTML object>"
      ]
     },
     "metadata": {},
     "output_type": "display_data"
    },
    {
     "name": "stdout",
     "output_type": "stream",
     "text": [
      "Search with full paper\n"
     ]
    },
    {
     "data": {
      "text/html": [
       "<table border=\"1\" class=\"dataframe\">\n",
       "  <thead>\n",
       "    <tr style=\"text-align: right;\">\n",
       "      <th></th>\n",
       "      <th>Title</th>\n",
       "      <th>Authors</th>\n",
       "      <th>BERT-SQuAD Answer with Highlights</th>\n",
       "      <th>Confidence</th>\n",
       "    </tr>\n",
       "  </thead>\n",
       "  <tbody>\n",
       "    <tr>\n",
       "      <th>0</th>\n",
       "      <td></td>\n",
       "      <td>Ping Liu</td>\n",
       "      <td><div> / 2020 <font color='red'>malayan pangolins</font> </div></td>\n",
       "      <td>0.567853</td>\n",
       "    </tr>\n",
       "    <tr>\n",
       "      <th>1</th>\n",
       "      <td>RNA based mNGS approach identifies a novel human coronavirus from two individual pneumonia cases in 2019 Wuhan outbreak</td>\n",
       "      <td>Liangjun Chen</td>\n",
       "      <td><div> <font color='red'>bats</font> </div></td>\n",
       "      <td>0.386718</td>\n",
       "    </tr>\n",
       "    <tr>\n",
       "      <th>2</th>\n",
       "      <td>Outbreak 2019-nCoV (Wuhan virus), a novel Coronavirus: human-to-human transmission, travel-related cases, and vaccine readiness</td>\n",
       "      <td>Robyn Ralph</td>\n",
       "      <td><div> 1), were obtained from  <font color='red'>genbank</font> .</div></td>\n",
       "      <td>0.324047</td>\n",
       "    </tr>\n",
       "    <tr>\n",
       "      <th>3</th>\n",
       "      <td>Genomic characterisation and epidemiology of 2019 novel coronavirus: implications for virus origins and receptor binding</td>\n",
       "      <td>Roujian Lu</td>\n",
       "      <td><div> therefore, on the basis of current data, it seems likely that the 2019-ncov causing the wuhan outbreak might also be initially hosted by  <font color='red'>bats</font> , and might have been transmitted to humans via currently unknown wild animal (s) sold at the huanan seafood market.</div></td>\n",
       "      <td>0.307604</td>\n",
       "    </tr>\n",
       "    <tr>\n",
       "      <th>4</th>\n",
       "      <td>Emerging novel coronavirus (2019-nCoV)-current scenario, evolutionary perspective based on genome analysis and recent developments</td>\n",
       "      <td>Yashpal Singh Malik</td>\n",
       "      <td><div>  <font color='red'>bats</font>  are considered as the natural reservoir hosts and play a crucial role in transmitting various viruses, including ebola, nipah, coronavirus and others (cui et al.</div></td>\n",
       "      <td>0.284420</td>\n",
       "    </tr>\n",
       "    <tr>\n",
       "      <th>5</th>\n",
       "      <td>Consensus statement The species Severe acute respiratory syndrome- related coronavirus: classifying 2019-nCoV and naming it SARS-CoV-2 Coronaviridae Study Group of the International Committee on Taxonomy of Viruses*</td>\n",
       "      <td>Info missed</td>\n",
       "      <td><div> <font color='red'>human coronavirus 3</font> </div></td>\n",
       "      <td>0.281045</td>\n",
       "    </tr>\n",
       "    <tr>\n",
       "      <th>6</th>\n",
       "      <td>The deadly coronaviruses: The 2003 SARS pandemic and the 2020 novel coronavirus epidemic in China</td>\n",
       "      <td>Yongshi Yang</td>\n",
       "      <td><div> <font color='red'>civets</font> </div></td>\n",
       "      <td>0.207842</td>\n",
       "    </tr>\n",
       "    <tr>\n",
       "      <th>7</th>\n",
       "      <td>COVID-19: Epidemiology, Evolution, and Cross-Disciplinary Perspectives Trends in Molecular Medicine</td>\n",
       "      <td>Jiumeng Sun</td>\n",
       "      <td><div> xx 11 <font color='red'>bats</font> </div></td>\n",
       "      <td>0.194110</td>\n",
       "    </tr>\n",
       "  </tbody>\n",
       "</table>"
      ],
      "text/plain": [
       "<IPython.core.display.HTML object>"
      ]
     },
     "metadata": {},
     "output_type": "display_data"
    }
   ],
   "source": [
    "i = all_topics[2]\n",
    "Display_all(topic_area[i][0][0], topic_area[i][0][1], abst = True)\n",
    "Display_all(topic_area[i][0][0], topic_area[i][0][1], abst = False)"
   ]
  },
  {
   "cell_type": "code",
   "execution_count": 33,
   "metadata": {},
   "outputs": [
    {
     "name": "stderr",
     "output_type": "stream",
     "text": [
      "\n",
      "  0%|          | 0/3 [00:00<?, ?it/s]\u001b[A\n",
      " 33%|███▎      | 1/3 [00:00<00:00,  2.39it/s]\u001b[A\n",
      " 67%|██████▋   | 2/3 [00:01<00:00,  1.96it/s]\u001b[A\n",
      "100%|██████████| 3/3 [00:02<00:00,  1.06it/s]\u001b[A\n"
     ]
    },
    {
     "data": {
      "text/html": [
       "<div style=\"font-family: Times New Roman; font-size: 28px; padding-bottom:28px\"><b>Query</b>: What drugs or therapies or antiviral are being investigated and recommended</div>"
      ],
      "text/plain": [
       "<IPython.core.display.HTML object>"
      ]
     },
     "metadata": {},
     "output_type": "display_data"
    },
    {
     "name": "stdout",
     "output_type": "stream",
     "text": [
      "Search with only Abstract\n"
     ]
    },
    {
     "data": {
      "text/html": [
       "<table border=\"1\" class=\"dataframe\">\n",
       "  <thead>\n",
       "    <tr style=\"text-align: right;\">\n",
       "      <th></th>\n",
       "      <th>Title</th>\n",
       "      <th>Authors</th>\n",
       "      <th>BERT-SQuAD Answer with Highlights</th>\n",
       "      <th>Confidence</th>\n",
       "    </tr>\n",
       "  </thead>\n",
       "  <tbody>\n",
       "    <tr>\n",
       "      <th>0</th>\n",
       "      <td>Potential Rapid Diagnostics, Vaccine and Therapeutics for 2019 Novel Coronavirus (2019-nCoV): A Systematic Review</td>\n",
       "      <td>Junxiong Pang</td>\n",
       "      <td><div> however, there are currently  <font color='red'>no effective specific antivirals or drug combinations</font>  supported by high-level evidence.</div></td>\n",
       "      <td>0.785457</td>\n",
       "    </tr>\n",
       "    <tr>\n",
       "      <th>1</th>\n",
       "      <td>A brief review of antiviral drugs evaluated in registered clinical trials for COVID-19</td>\n",
       "      <td>Drifa Belhadi</td>\n",
       "      <td><div>although a number of  <font color='red'>antiviral</font>  agents have been evaluated for coronaviruses there are no approved drugs available.</div></td>\n",
       "      <td>0.764765</td>\n",
       "    </tr>\n",
       "    <tr>\n",
       "      <th>2</th>\n",
       "      <td>Effectiveness and safety of antiviral or antibody treatments for coronavirus A rapid review Prepared for Public Health Agency of Canada</td>\n",
       "      <td>Patricia Rios</td>\n",
       "      <td><div>,  <font color='red'>antivirals / antibodies</font> ) to address the current outbreak of a novel coronavirus methods : comprehensive literature searches were developed by an experienced librarian for medline, embase, the cochrane library, and biorxiv.</div></td>\n",
       "      <td>0.635862</td>\n",
       "    </tr>\n",
       "  </tbody>\n",
       "</table>"
      ],
      "text/plain": [
       "<IPython.core.display.HTML object>"
      ]
     },
     "metadata": {},
     "output_type": "display_data"
    },
    {
     "name": "stderr",
     "output_type": "stream",
     "text": [
      "\n",
      "  0%|          | 0/3 [00:00<?, ?it/s]\u001b[AToken indices sequence length is longer than the specified maximum sequence length for this model (3920 > 512). Running this sequence through the model will result in indexing errors\n",
      "\n",
      " 33%|███▎      | 1/3 [00:20<00:41, 20.81s/it]\u001b[AToken indices sequence length is longer than the specified maximum sequence length for this model (5539 > 512). Running this sequence through the model will result in indexing errors\n",
      "\n",
      " 67%|██████▋   | 2/3 [00:50<00:23, 23.44s/it]\u001b[AToken indices sequence length is longer than the specified maximum sequence length for this model (7473 > 512). Running this sequence through the model will result in indexing errors\n",
      "\n",
      "100%|██████████| 3/3 [01:30<00:00, 30.26s/it]\u001b[A\n"
     ]
    },
    {
     "data": {
      "text/html": [
       "<div style=\"font-family: Times New Roman; font-size: 28px; padding-bottom:28px\"><b>Query</b>: What drugs or therapies or antiviral are being investigated and recommended</div>"
      ],
      "text/plain": [
       "<IPython.core.display.HTML object>"
      ]
     },
     "metadata": {},
     "output_type": "display_data"
    },
    {
     "name": "stdout",
     "output_type": "stream",
     "text": [
      "Search with full paper\n"
     ]
    },
    {
     "data": {
      "text/html": [
       "<table border=\"1\" class=\"dataframe\">\n",
       "  <thead>\n",
       "    <tr style=\"text-align: right;\">\n",
       "      <th></th>\n",
       "      <th>Title</th>\n",
       "      <th>Authors</th>\n",
       "      <th>BERT-SQuAD Answer with Highlights</th>\n",
       "      <th>Confidence</th>\n",
       "    </tr>\n",
       "  </thead>\n",
       "  <tbody>\n",
       "    <tr>\n",
       "      <th>0</th>\n",
       "      <td>Effectiveness and safety of antiviral or antibody treatments for coronavirus A rapid review Prepared for Public Health Agency of Canada</td>\n",
       "      <td>Patricia Rios</td>\n",
       "      <td><div> the current evidence for the effectiveness of  <font color='red'>antiviral therapies</font>  for coronavirus is not conclusive and suffers from a lack of well-designed prospective trials or observational studies.</div></td>\n",
       "      <td>0.724003</td>\n",
       "    </tr>\n",
       "    <tr>\n",
       "      <th>1</th>\n",
       "      <td>A brief review of antiviral drugs evaluated in registered clinical trials for COVID-19</td>\n",
       "      <td>Drifa Belhadi</td>\n",
       "      <td><div> note : iv : intravenous ; sc : subcutaneous ; <font color='red'>antiviral agents</font> </div></td>\n",
       "      <td>0.643932</td>\n",
       "    </tr>\n",
       "  </tbody>\n",
       "</table>"
      ],
      "text/plain": [
       "<IPython.core.display.HTML object>"
      ]
     },
     "metadata": {},
     "output_type": "display_data"
    }
   ],
   "source": [
    "i = all_topics[3]\n",
    "Display_all(topic_area[i][0][0], topic_area[i][0][1], abst = True)\n",
    "Display_all(topic_area[i][0][0], topic_area[i][0][1], abst = False)"
   ]
  },
  {
   "cell_type": "code",
   "execution_count": 34,
   "metadata": {},
   "outputs": [
    {
     "name": "stderr",
     "output_type": "stream",
     "text": [
      "\n",
      "  0%|          | 0/8 [00:00<?, ?it/s]\u001b[A\n",
      " 12%|█▎        | 1/8 [00:01<00:10,  1.56s/it]\u001b[A\n",
      " 25%|██▌       | 2/8 [00:02<00:07,  1.22s/it]\u001b[A\n",
      " 38%|███▊      | 3/8 [00:03<00:05,  1.18s/it]\u001b[A\n",
      " 50%|█████     | 4/8 [00:04<00:05,  1.26s/it]\u001b[A\n",
      " 62%|██████▎   | 5/8 [00:06<00:04,  1.42s/it]\u001b[A\n",
      " 75%|███████▌  | 6/8 [00:06<00:02,  1.09s/it]\u001b[A\n",
      " 88%|████████▊ | 7/8 [00:08<00:01,  1.34s/it]\u001b[A\n",
      "100%|██████████| 8/8 [00:09<00:00,  1.15s/it]\u001b[A\n"
     ]
    },
    {
     "data": {
      "text/html": [
       "<div style=\"font-family: Times New Roman; font-size: 28px; padding-bottom:28px\"><b>Query</b>: Which non-pharmaceutical interventions limit tramsission</div>"
      ],
      "text/plain": [
       "<IPython.core.display.HTML object>"
      ]
     },
     "metadata": {},
     "output_type": "display_data"
    },
    {
     "name": "stdout",
     "output_type": "stream",
     "text": [
      "Search with only Abstract\n"
     ]
    },
    {
     "data": {
      "text/html": [
       "<table border=\"1\" class=\"dataframe\">\n",
       "  <thead>\n",
       "    <tr style=\"text-align: right;\">\n",
       "      <th></th>\n",
       "      <th>Title</th>\n",
       "      <th>Authors</th>\n",
       "      <th>BERT-SQuAD Answer with Highlights</th>\n",
       "      <th>Confidence</th>\n",
       "    </tr>\n",
       "  </thead>\n",
       "  <tbody>\n",
       "    <tr>\n",
       "      <th>0</th>\n",
       "      <td>Effect of non-pharmaceutical interventions for containing the COVID-19 outbreak in China</td>\n",
       "      <td>Shengjie Lai</td>\n",
       "      <td><div> <font color='red'>the covid-19 outbreak containment strategies in china</font>  based on non-pharmaceutical interventions (npis) appear to be effective.</div></td>\n",
       "      <td>0.364703</td>\n",
       "    </tr>\n",
       "    <tr>\n",
       "      <th>1</th>\n",
       "      <td>Department of Occupational and Environmental Health</td>\n",
       "      <td>(</td>\n",
       "      <td><div> we developed a susceptible-exposed-infectious-recovered model to study the epidemic and evaluate the impact of  <font color='red'>interventions</font> .</div></td>\n",
       "      <td>0.360256</td>\n",
       "    </tr>\n",
       "    <tr>\n",
       "      <th>2</th>\n",
       "      <td>Predicting support for non-pharmaceutical interventions during infectious outbreaks: a four region analysis</td>\n",
       "      <td>Francesca Matthews Pillemer</td>\n",
       "      <td><div> it is speculated here that some public health interventions may serve as ' gateway ' exposures to  <font color='red'>future public health interventions</font> ..</div></td>\n",
       "      <td>0.359566</td>\n",
       "    </tr>\n",
       "    <tr>\n",
       "      <th>3</th>\n",
       "      <td>Nowcasting and forecasting the potential domestic and international spread of the 2019-nCoV outbreak originating in Wuhan, China: a modelling study</td>\n",
       "      <td>Joseph Wu</td>\n",
       "      <td><div> here, we provide an estimate of the size of the epidemic in wuhan on the basis of the number of cases exported from wuhan to cities outside mainland china and forecast the extent of the domestic and global public health risks of epidemics, accounting for  <font color='red'>social and non-pharmaceutical prevention</font>  interventions.</div></td>\n",
       "      <td>0.309415</td>\n",
       "    </tr>\n",
       "    <tr>\n",
       "      <th>4</th>\n",
       "      <td>The impact of non-pharmaceutical interventions for 2009 H1N1 influenza on travel intentions: A model of goal-directed behavior</td>\n",
       "      <td>Choong-Ki Lee</td>\n",
       "      <td><div> the model found that desire, perceived behavioral control, frequency of past behavior, and non-pharmaceutical interventions predicted tourists ' intention but  <font color='red'>perceptions of 2009 h1n1 had nil effect on desire and intention</font> .</div></td>\n",
       "      <td>0.308177</td>\n",
       "    </tr>\n",
       "    <tr>\n",
       "      <th>5</th>\n",
       "      <td>An optimal control theory approach to non-pharmaceutical interventions</td>\n",
       "      <td>Feng Lin</td>\n",
       "      <td><div> these interventions dampen  <font color='red'>virus spread by reducing contact between infected and susceptible persons</font> .</div></td>\n",
       "      <td>0.254112</td>\n",
       "    </tr>\n",
       "    <tr>\n",
       "      <th>6</th>\n",
       "      <td>Pandemic preparedness: perceptions of vulnerable migrants in Thailand towards WHO-recommended non-pharmaceutical interventions: a cross-sectional study</td>\n",
       "      <td>Jason Hickey</td>\n",
       "      <td><div>, using a thermometer, wearing a face mask) and  <font color='red'>inadequate hand washing and household disinfection practices</font> .</div></td>\n",
       "      <td>0.171863</td>\n",
       "    </tr>\n",
       "  </tbody>\n",
       "</table>"
      ],
      "text/plain": [
       "<IPython.core.display.HTML object>"
      ]
     },
     "metadata": {},
     "output_type": "display_data"
    },
    {
     "name": "stderr",
     "output_type": "stream",
     "text": [
      "\n",
      "  0%|          | 0/8 [00:00<?, ?it/s]\u001b[AToken indices sequence length is longer than the specified maximum sequence length for this model (1493 > 512). Running this sequence through the model will result in indexing errors\n",
      "\n",
      " 12%|█▎        | 1/8 [00:07<00:54,  7.79s/it]\u001b[AToken indices sequence length is longer than the specified maximum sequence length for this model (4518 > 512). Running this sequence through the model will result in indexing errors\n",
      "\n",
      " 25%|██▌       | 2/8 [00:31<01:15, 12.57s/it]\u001b[AToken indices sequence length is longer than the specified maximum sequence length for this model (10237 > 512). Running this sequence through the model will result in indexing errors\n",
      "\n",
      " 38%|███▊      | 3/8 [01:26<02:06, 25.27s/it]\u001b[AToken indices sequence length is longer than the specified maximum sequence length for this model (6699 > 512). Running this sequence through the model will result in indexing errors\n",
      "\n",
      " 50%|█████     | 4/8 [02:01<01:53, 28.35s/it]\u001b[AToken indices sequence length is longer than the specified maximum sequence length for this model (4967 > 512). Running this sequence through the model will result in indexing errors\n",
      "\n",
      " 62%|██████▎   | 5/8 [02:28<01:23, 27.71s/it]\u001b[AToken indices sequence length is longer than the specified maximum sequence length for this model (6280 > 512). Running this sequence through the model will result in indexing errors\n",
      "\n",
      " 75%|███████▌  | 6/8 [03:01<00:58, 29.29s/it]\u001b[AToken indices sequence length is longer than the specified maximum sequence length for this model (8168 > 512). Running this sequence through the model will result in indexing errors\n",
      "\n",
      " 88%|████████▊ | 7/8 [03:44<00:33, 33.39s/it]\u001b[AToken indices sequence length is longer than the specified maximum sequence length for this model (5193 > 512). Running this sequence through the model will result in indexing errors\n",
      "\n",
      "100%|██████████| 8/8 [04:11<00:00, 31.44s/it]\u001b[A\n"
     ]
    },
    {
     "data": {
      "text/html": [
       "<div style=\"font-family: Times New Roman; font-size: 28px; padding-bottom:28px\"><b>Query</b>: Which non-pharmaceutical interventions limit tramsission</div>"
      ],
      "text/plain": [
       "<IPython.core.display.HTML object>"
      ]
     },
     "metadata": {},
     "output_type": "display_data"
    },
    {
     "name": "stdout",
     "output_type": "stream",
     "text": [
      "Search with full paper\n"
     ]
    },
    {
     "data": {
      "text/html": [
       "<table border=\"1\" class=\"dataframe\">\n",
       "  <thead>\n",
       "    <tr style=\"text-align: right;\">\n",
       "      <th></th>\n",
       "      <th>Title</th>\n",
       "      <th>Authors</th>\n",
       "      <th>BERT-SQuAD Answer with Highlights</th>\n",
       "      <th>Confidence</th>\n",
       "    </tr>\n",
       "  </thead>\n",
       "  <tbody>\n",
       "    <tr>\n",
       "      <th>0</th>\n",
       "      <td>Department of Occupational and Environmental Health</td>\n",
       "      <td>(</td>\n",
       "      <td><div> 20030593 doi : medrxiv preprint <font color='red'>intra-city and inter-city traffic restriction, social distancing measures, and improvement of medical. cc-by-nc-nd 4. 0 international license it is made available under a author / funder, who has granted medrxiv a license to display the preprint in perpetuity. is the (which was not peer-reviewed) the copyright holder for this preprint. https : / / doi. org / 10. 1101 / 2020. 03. 03. 20030593 doi : medrxiv preprint resources within wuhan city. these interventions would inevitably affect the model parameters such as the transmission rate across time</font> </div></td>\n",
       "      <td>0.410029</td>\n",
       "    </tr>\n",
       "    <tr>\n",
       "      <th>1</th>\n",
       "      <td>Predicting support for non-pharmaceutical interventions during infectious outbreaks: a four region analysis</td>\n",
       "      <td>Francesca Matthews Pillemer</td>\n",
       "      <td><div> gender (table 3 trust, concern, and basic npi support (select significant results) <font color='red'>travel screening and restrictions</font> </div></td>\n",
       "      <td>0.372456</td>\n",
       "    </tr>\n",
       "    <tr>\n",
       "      <th>2</th>\n",
       "      <td>The impact of non-pharmaceutical interventions for 2009 H1N1 influenza on travel intentions: A model of goal-directed behavior</td>\n",
       "      <td>Choong-Ki Lee</td>\n",
       "      <td><div> <font color='red'>decrease their risk of 2009 h1n1 infection while traveling</font> </div></td>\n",
       "      <td>0.269636</td>\n",
       "    </tr>\n",
       "    <tr>\n",
       "      <th>3</th>\n",
       "      <td>Pandemic preparedness: perceptions of vulnerable migrants in Thailand towards WHO-recommended non-pharmaceutical interventions: a cross-sectional study</td>\n",
       "      <td>Jason Hickey</td>\n",
       "      <td><div> <font color='red'>personal hygiene, cough etiquette, social distancing and border measures</font> </div></td>\n",
       "      <td>0.239804</td>\n",
       "    </tr>\n",
       "    <tr>\n",
       "      <th>4</th>\n",
       "      <td>Nowcasting and forecasting the potential domestic and international spread of the 2019-nCoV outbreak originating in Wuhan, China: a modelling study</td>\n",
       "      <td>Joseph Wu</td>\n",
       "      <td><div> <font color='red'>use of face masks and improved personal hygiene</font> </div></td>\n",
       "      <td>0.204842</td>\n",
       "    </tr>\n",
       "    <tr>\n",
       "      <th>5</th>\n",
       "      <td>Effect of non-pharmaceutical interventions for containing the COVID-19 outbreak in China</td>\n",
       "      <td>Shengjie Lai</td>\n",
       "      <td><div> is the the copyright holder for this preprint <font color='red'>isolating ill persons, contact tracing, quarantine of exposed persons, travel restrictions, school and workplace closures, and cancellation of mass gathering events</font> </div></td>\n",
       "      <td>0.204104</td>\n",
       "    </tr>\n",
       "  </tbody>\n",
       "</table>"
      ],
      "text/plain": [
       "<IPython.core.display.HTML object>"
      ]
     },
     "metadata": {},
     "output_type": "display_data"
    }
   ],
   "source": [
    "i = all_topics[4]\n",
    "Display_all(topic_area[i][0][0], topic_area[i][0][1], abst = True)\n",
    "Display_all(topic_area[i][0][0], topic_area[i][0][1], abst = False)"
   ]
  },
  {
   "cell_type": "code",
   "execution_count": 35,
   "metadata": {},
   "outputs": [
    {
     "name": "stderr",
     "output_type": "stream",
     "text": [
      "\n",
      "  0%|          | 0/6 [00:00<?, ?it/s]\u001b[A\n",
      " 17%|█▋        | 1/6 [00:01<00:05,  1.12s/it]\u001b[A\n",
      " 33%|███▎      | 2/6 [00:01<00:03,  1.06it/s]\u001b[A\n",
      " 50%|█████     | 3/6 [00:02<00:02,  1.21it/s]\u001b[AToken indices sequence length is longer than the specified maximum sequence length for this model (535 > 512). Running this sequence through the model will result in indexing errors\n",
      "\n",
      " 67%|██████▋   | 4/6 [00:05<00:02,  1.46s/it]\u001b[A\n",
      " 83%|████████▎ | 5/6 [00:06<00:01,  1.42s/it]\u001b[A\n",
      "100%|██████████| 6/6 [00:07<00:00,  1.21s/it]\u001b[A\n"
     ]
    },
    {
     "data": {
      "text/html": [
       "<div style=\"font-family: Times New Roman; font-size: 28px; padding-bottom:28px\"><b>Query</b>: What adjunctive or supportive methods can help patients</div>"
      ],
      "text/plain": [
       "<IPython.core.display.HTML object>"
      ]
     },
     "metadata": {},
     "output_type": "display_data"
    },
    {
     "name": "stdout",
     "output_type": "stream",
     "text": [
      "Search with only Abstract\n"
     ]
    },
    {
     "data": {
      "text/html": [
       "<table border=\"1\" class=\"dataframe\">\n",
       "  <thead>\n",
       "    <tr style=\"text-align: right;\">\n",
       "      <th></th>\n",
       "      <th>Title</th>\n",
       "      <th>Authors</th>\n",
       "      <th>BERT-SQuAD Answer with Highlights</th>\n",
       "      <th>Confidence</th>\n",
       "    </tr>\n",
       "  </thead>\n",
       "  <tbody>\n",
       "    <tr>\n",
       "      <th>0</th>\n",
       "      <td>Emergent severe acute respiratory distress syndrome caused by adenovirus type 55 in immunocompetent adults in 2013: a prospective observational study</td>\n",
       "      <td>Bing Sun</td>\n",
       "      <td><div> the clinical features and outcomes of the most critically ill patients with severe acute respiratory distress syndrome (ards) caused by hadv-55 requiring  <font color='red'>invasive mechanical ventilation (imv) and / or extracorporeal membrane oxygenation</font>  (ecmo) are lacking.</div></td>\n",
       "      <td>0.521152</td>\n",
       "    </tr>\n",
       "    <tr>\n",
       "      <th>1</th>\n",
       "      <td>Intravenous vitamin C as adjunctive therapy for enterovirus/rhinovirus induced acute respiratory distress syndrome</td>\n",
       "      <td>Alpha Fowler</td>\n",
       "      <td><div> this report outlines the first use of high dose intravenous vitamin c as an  <font color='red'>interventional therapy</font>  for ards, resulting from enterovirus / rhinovirus respiratory infection.</div></td>\n",
       "      <td>0.458741</td>\n",
       "    </tr>\n",
       "    <tr>\n",
       "      <th>2</th>\n",
       "      <td>Extracorporeal membrane oxygenation for severe Middle East respiratory syndrome coronavirus</td>\n",
       "      <td>Mohammed Alshahrani</td>\n",
       "      <td><div> the objective of this study is to compare the outcomes of mers-cov patients before and after the availability of  <font color='red'>extracorporeal membrane oxygenation</font>  (ecmo) as a rescue therapy in severely hypoxemic patients who failed conventional strategies.</div></td>\n",
       "      <td>0.450459</td>\n",
       "    </tr>\n",
       "    <tr>\n",
       "      <th>3</th>\n",
       "      <td>Mobile ECMO team for inter-hospital transportation of patients with ARDS: a retrospective case series</td>\n",
       "      <td>Alberto Lucchini</td>\n",
       "      <td><div> 29 patients (69 %) were transported with  <font color='red'>extracorporeal membrane oxygenation support</font> , while 13 patients (31 %) were transported with conventional ventilation.</div></td>\n",
       "      <td>0.324622</td>\n",
       "    </tr>\n",
       "    <tr>\n",
       "      <th>4</th>\n",
       "      <td>Application of extracorporeal membrane oxygenation in patients with severe acute respiratory distress syndrome induced by avian influenza A (H7N9) viral pneumonia: national data from the Chinese multicentre collaboration</td>\n",
       "      <td>Linna Huang</td>\n",
       "      <td><div> 05) after 48 h on  <font color='red'>ecmo support</font> .</div></td>\n",
       "      <td>0.315255</td>\n",
       "    </tr>\n",
       "  </tbody>\n",
       "</table>"
      ],
      "text/plain": [
       "<IPython.core.display.HTML object>"
      ]
     },
     "metadata": {},
     "output_type": "display_data"
    },
    {
     "name": "stderr",
     "output_type": "stream",
     "text": [
      "\n",
      "  0%|          | 0/7 [00:00<?, ?it/s]\u001b[AToken indices sequence length is longer than the specified maximum sequence length for this model (5968 > 512). Running this sequence through the model will result in indexing errors\n",
      "\n",
      " 14%|█▍        | 1/7 [00:31<03:07, 31.27s/it]\u001b[AToken indices sequence length is longer than the specified maximum sequence length for this model (3546 > 512). Running this sequence through the model will result in indexing errors\n",
      "\n",
      " 29%|██▊       | 2/7 [00:49<02:17, 27.43s/it]\u001b[AToken indices sequence length is longer than the specified maximum sequence length for this model (3129 > 512). Running this sequence through the model will result in indexing errors\n",
      "\n",
      " 43%|████▎     | 3/7 [01:05<01:36, 24.06s/it]\u001b[AToken indices sequence length is longer than the specified maximum sequence length for this model (3535 > 512). Running this sequence through the model will result in indexing errors\n",
      "\n",
      " 57%|█████▋    | 4/7 [01:24<01:07, 22.34s/it]\u001b[AToken indices sequence length is longer than the specified maximum sequence length for this model (5176 > 512). Running this sequence through the model will result in indexing errors\n",
      "\n",
      " 71%|███████▏  | 5/7 [01:51<00:47, 23.78s/it]\u001b[AToken indices sequence length is longer than the specified maximum sequence length for this model (3055 > 512). Running this sequence through the model will result in indexing errors\n",
      "\n",
      " 86%|████████▌ | 6/7 [02:07<00:21, 21.41s/it]\u001b[AToken indices sequence length is longer than the specified maximum sequence length for this model (3335 > 512). Running this sequence through the model will result in indexing errors\n",
      "\n",
      "100%|██████████| 7/7 [02:24<00:00, 20.67s/it]\u001b[A\n"
     ]
    },
    {
     "data": {
      "text/html": [
       "<div style=\"font-family: Times New Roman; font-size: 28px; padding-bottom:28px\"><b>Query</b>: What adjunctive or supportive methods can help patients</div>"
      ],
      "text/plain": [
       "<IPython.core.display.HTML object>"
      ]
     },
     "metadata": {},
     "output_type": "display_data"
    },
    {
     "name": "stdout",
     "output_type": "stream",
     "text": [
      "Search with full paper\n"
     ]
    },
    {
     "data": {
      "text/html": [
       "<table border=\"1\" class=\"dataframe\">\n",
       "  <thead>\n",
       "    <tr style=\"text-align: right;\">\n",
       "      <th></th>\n",
       "      <th>Title</th>\n",
       "      <th>Authors</th>\n",
       "      <th>BERT-SQuAD Answer with Highlights</th>\n",
       "      <th>Confidence</th>\n",
       "    </tr>\n",
       "  </thead>\n",
       "  <tbody>\n",
       "    <tr>\n",
       "      <th>0</th>\n",
       "      <td>Extracorporeal membrane oxygenation for severe Middle East respiratory syndrome coronavirus</td>\n",
       "      <td>Mohammed Alshahrani</td>\n",
       "      <td><div> <font color='red'>adjunctive therapies</font> </div></td>\n",
       "      <td>0.644751</td>\n",
       "    </tr>\n",
       "    <tr>\n",
       "      <th>1</th>\n",
       "      <td>Extracorporeal membrane oxygenation with prone position ventilation successfully rescues infantile pertussis: a case report and literature review</td>\n",
       "      <td>Jingyi Shi</td>\n",
       "      <td><div> <font color='red'>lung protective strategies and a restrictive fluid strategy</font> </div></td>\n",
       "      <td>0.449246</td>\n",
       "    </tr>\n",
       "    <tr>\n",
       "      <th>2</th>\n",
       "      <td>Emergent severe acute respiratory distress syndrome caused by adenovirus type 55 in immunocompetent adults in 2013: a prospective observational study</td>\n",
       "      <td>Bing Sun</td>\n",
       "      <td><div> <font color='red'>invasive mechanical ventilation and / or extracorporeal membrane oxygenation (ecmo)</font> </div></td>\n",
       "      <td>0.447816</td>\n",
       "    </tr>\n",
       "    <tr>\n",
       "      <th>3</th>\n",
       "      <td>Mobile ECMO team for inter-hospital transportation of patients with ARDS: a retrospective case series</td>\n",
       "      <td>Alberto Lucchini</td>\n",
       "      <td><div> <font color='red'>extracorporeal respiratory support</font> </div></td>\n",
       "      <td>0.430143</td>\n",
       "    </tr>\n",
       "    <tr>\n",
       "      <th>4</th>\n",
       "      <td>Planning and provision of ECMO services for severe ARDS during the COVID-19 pandemic and other outbreaks of emerging infectious diseases Health-care Development</td>\n",
       "      <td>( Hospital</td>\n",
       "      <td><div> <font color='red'>extracorporeal membrane oxygenation</font> </div></td>\n",
       "      <td>0.364851</td>\n",
       "    </tr>\n",
       "    <tr>\n",
       "      <th>5</th>\n",
       "      <td>Application of extracorporeal membrane oxygenation in patients with severe acute respiratory distress syndrome induced by avian influenza A (H7N9) viral pneumonia: national data from the Chinese multicentre collaboration</td>\n",
       "      <td>Linna Huang</td>\n",
       "      <td><div> 05) after  <font color='red'>ecmo support</font> .</div></td>\n",
       "      <td>0.276846</td>\n",
       "    </tr>\n",
       "  </tbody>\n",
       "</table>"
      ],
      "text/plain": [
       "<IPython.core.display.HTML object>"
      ]
     },
     "metadata": {},
     "output_type": "display_data"
    }
   ],
   "source": [
    "i = all_topics[5]\n",
    "Display_all(topic_area[i][0][0], topic_area[i][0][1], abst = True)\n",
    "Display_all(topic_area[i][0][0], topic_area[i][0][1], abst = False)"
   ]
  },
  {
   "cell_type": "code",
   "execution_count": 36,
   "metadata": {},
   "outputs": [
    {
     "name": "stderr",
     "output_type": "stream",
     "text": [
      "\n",
      "  0%|          | 0/6 [00:00<?, ?it/s]\u001b[A\n",
      " 17%|█▋        | 1/6 [00:01<00:08,  1.75s/it]\u001b[A\n",
      " 33%|███▎      | 2/6 [00:02<00:06,  1.58s/it]\u001b[A\n",
      " 50%|█████     | 3/6 [00:05<00:05,  1.74s/it]\u001b[A\n",
      " 67%|██████▋   | 4/6 [00:06<00:03,  1.62s/it]\u001b[A\n",
      " 83%|████████▎ | 5/6 [00:08<00:01,  1.64s/it]\u001b[A\n",
      "100%|██████████| 6/6 [00:09<00:00,  1.56s/it]\u001b[A\n"
     ]
    },
    {
     "data": {
      "text/html": [
       "<div style=\"font-family: Times New Roman; font-size: 28px; padding-bottom:28px\"><b>Query</b>: What diagnostic tests (tools) exist or are being developed to detect 2019-nCoV</div>"
      ],
      "text/plain": [
       "<IPython.core.display.HTML object>"
      ]
     },
     "metadata": {},
     "output_type": "display_data"
    },
    {
     "name": "stdout",
     "output_type": "stream",
     "text": [
      "Search with only Abstract\n"
     ]
    },
    {
     "data": {
      "text/html": [
       "<table border=\"1\" class=\"dataframe\">\n",
       "  <thead>\n",
       "    <tr style=\"text-align: right;\">\n",
       "      <th></th>\n",
       "      <th>Title</th>\n",
       "      <th>Authors</th>\n",
       "      <th>BERT-SQuAD Answer with Highlights</th>\n",
       "      <th>Confidence</th>\n",
       "    </tr>\n",
       "  </thead>\n",
       "  <tbody>\n",
       "    <tr>\n",
       "      <th>0</th>\n",
       "      <td>Potential Rapid Diagnostics, Vaccine and Therapeutics for 2019 Novel Coronavirus (2019-nCoV): A Systematic Review</td>\n",
       "      <td>Junxiong Pang</td>\n",
       "      <td><div> however,  <font color='red'>serological assays as well as point-of-care testing kits</font>  have not been developed but are likely in the near future.</div></td>\n",
       "      <td>0.566219</td>\n",
       "    </tr>\n",
       "    <tr>\n",
       "      <th>1</th>\n",
       "      <td>Potential T-cell and B-cell Epitopes of 2019-nCoV</td>\n",
       "      <td>Ethan Fast</td>\n",
       "      <td><div> here we use  <font color='red'>computational tools from structural biology and machine learning</font>  to identify 2019-ncov t-cell and b-cell epitopes based on viral protein antigen presentation and antibody binding properties.</div></td>\n",
       "      <td>0.539724</td>\n",
       "    </tr>\n",
       "    <tr>\n",
       "      <th>2</th>\n",
       "      <td>Title: Genome Detective Coronavirus Typing Tool for rapid identification and characterization of novel coronavirus genomes Short title: Automated tool for phylogenetic and mutational analysis of coronaviruses genomes</td>\n",
       "      <td>Sara Cleemput</td>\n",
       "      <td><div> the tool also allows tracking of new viral mutations as the outbreak expands globally, which may help to accelerate the development of  <font color='red'>novel diagnostics, drugs and vaccines</font> .</div></td>\n",
       "      <td>0.518947</td>\n",
       "    </tr>\n",
       "    <tr>\n",
       "      <th>3</th>\n",
       "      <td>Genome Detective Coronavirus Typing Tool for rapid identification and characterization of novel coronavirus genomes</td>\n",
       "      <td>Sara Cleemput</td>\n",
       "      <td><div> the tool also allows tracking of new viral mutations as the outbreak expands globally, which may help to accelerate the development of  <font color='red'>novel diagnostics, drugs and vaccines</font>  to stop the covid-19 disease.</div></td>\n",
       "      <td>0.507591</td>\n",
       "    </tr>\n",
       "    <tr>\n",
       "      <th>4</th>\n",
       "      <td>Rapid colorimetric detection of COVID-19 coronavirus using a reverse tran- scriptional loop-mediated isothermal amplification (RT-LAMP) diagnostic plat- form: iLACO</td>\n",
       "      <td>Lin Yu</td>\n",
       "      <td><div> the accuracy, simplicity and versatility of the new developed method suggests that  <font color='red'>ilaco assays can be conveniently applied with for 2019-ncov threat control, even in those cases where specialized molecular biology equipment is not available</font> .</div></td>\n",
       "      <td>0.481790</td>\n",
       "    </tr>\n",
       "  </tbody>\n",
       "</table>"
      ],
      "text/plain": [
       "<IPython.core.display.HTML object>"
      ]
     },
     "metadata": {},
     "output_type": "display_data"
    },
    {
     "name": "stderr",
     "output_type": "stream",
     "text": [
      "\n",
      "  0%|          | 0/6 [00:00<?, ?it/s]\u001b[AToken indices sequence length is longer than the specified maximum sequence length for this model (3393 > 512). Running this sequence through the model will result in indexing errors\n",
      "\n",
      " 17%|█▋        | 1/6 [00:18<01:31, 18.20s/it]\u001b[AToken indices sequence length is longer than the specified maximum sequence length for this model (2579 > 512). Running this sequence through the model will result in indexing errors\n",
      "\n",
      " 33%|███▎      | 2/6 [00:31<01:07, 16.85s/it]\u001b[AToken indices sequence length is longer than the specified maximum sequence length for this model (1986 > 512). Running this sequence through the model will result in indexing errors\n",
      "\n",
      " 50%|█████     | 3/6 [00:42<00:44, 14.99s/it]\u001b[AToken indices sequence length is longer than the specified maximum sequence length for this model (2062 > 512). Running this sequence through the model will result in indexing errors\n",
      "\n",
      " 67%|██████▋   | 4/6 [00:53<00:27, 13.81s/it]\u001b[AToken indices sequence length is longer than the specified maximum sequence length for this model (7473 > 512). Running this sequence through the model will result in indexing errors\n",
      "\n",
      " 83%|████████▎ | 5/6 [01:34<00:21, 21.88s/it]\u001b[AToken indices sequence length is longer than the specified maximum sequence length for this model (2106 > 512). Running this sequence through the model will result in indexing errors\n",
      "\n",
      "100%|██████████| 6/6 [01:45<00:00, 17.59s/it]\u001b[A\n"
     ]
    },
    {
     "data": {
      "text/html": [
       "<div style=\"font-family: Times New Roman; font-size: 28px; padding-bottom:28px\"><b>Query</b>: What diagnostic tests (tools) exist or are being developed to detect 2019-nCoV</div>"
      ],
      "text/plain": [
       "<IPython.core.display.HTML object>"
      ]
     },
     "metadata": {},
     "output_type": "display_data"
    },
    {
     "name": "stdout",
     "output_type": "stream",
     "text": [
      "Search with full paper\n"
     ]
    },
    {
     "data": {
      "text/html": [
       "<table border=\"1\" class=\"dataframe\">\n",
       "  <thead>\n",
       "    <tr style=\"text-align: right;\">\n",
       "      <th></th>\n",
       "      <th>Title</th>\n",
       "      <th>Authors</th>\n",
       "      <th>BERT-SQuAD Answer with Highlights</th>\n",
       "      <th>Confidence</th>\n",
       "    </tr>\n",
       "  </thead>\n",
       "  <tbody>\n",
       "    <tr>\n",
       "      <th>0</th>\n",
       "      <td>Potential Rapid Diagnostics, Vaccine and Therapeutics for 2019 Novel Coronavirus (2019-nCoV): A Systematic Review</td>\n",
       "      <td>Junxiong Pang</td>\n",
       "      <td><div> com / xxx / s1, table s1 : example of full search strategy in pubmed, table s2 : google search : 2019-ncov diagnostics, table s3 : summary of diagnostic assays developed for 2019-ncov, table s4 <font color='red'>rapid diagnostics, vaccines and therapeutics</font> </div></td>\n",
       "      <td>0.494263</td>\n",
       "    </tr>\n",
       "  </tbody>\n",
       "</table>"
      ],
      "text/plain": [
       "<IPython.core.display.HTML object>"
      ]
     },
     "metadata": {},
     "output_type": "display_data"
    }
   ],
   "source": [
    "i = all_topics[6]\n",
    "Display_all(topic_area[i][0][0], topic_area[i][0][1], abst = True)\n",
    "Display_all(topic_area[i][0][0], topic_area[i][0][1], abst = False)"
   ]
  },
  {
   "cell_type": "code",
   "execution_count": 37,
   "metadata": {},
   "outputs": [
    {
     "name": "stderr",
     "output_type": "stream",
     "text": [
      "\n",
      "  0%|          | 0/7 [00:00<?, ?it/s]\u001b[A\n",
      " 14%|█▍        | 1/7 [00:02<00:13,  2.18s/it]\u001b[A\n",
      " 29%|██▊       | 2/7 [00:04<00:10,  2.08s/it]\u001b[A\n",
      " 43%|████▎     | 3/7 [00:05<00:07,  1.80s/it]\u001b[A\n",
      " 57%|█████▋    | 4/7 [00:07<00:05,  1.94s/it]\u001b[A\n",
      " 71%|███████▏  | 5/7 [00:10<00:04,  2.18s/it]\u001b[A\n",
      " 86%|████████▌ | 6/7 [00:11<00:01,  1.82s/it]\u001b[A\n",
      "100%|██████████| 7/7 [00:12<00:00,  1.76s/it]\u001b[A\n"
     ]
    },
    {
     "data": {
      "text/html": [
       "<div style=\"font-family: Times New Roman; font-size: 28px; padding-bottom:28px\"><b>Query</b>: What collaborations are happening within the research community</div>"
      ],
      "text/plain": [
       "<IPython.core.display.HTML object>"
      ]
     },
     "metadata": {},
     "output_type": "display_data"
    },
    {
     "name": "stdout",
     "output_type": "stream",
     "text": [
      "Search with only Abstract\n"
     ]
    },
    {
     "data": {
      "text/html": [
       "<table border=\"1\" class=\"dataframe\">\n",
       "  <thead>\n",
       "    <tr style=\"text-align: right;\">\n",
       "      <th></th>\n",
       "      <th>Title</th>\n",
       "      <th>Authors</th>\n",
       "      <th>BERT-SQuAD Answer with Highlights</th>\n",
       "      <th>Confidence</th>\n",
       "    </tr>\n",
       "  </thead>\n",
       "  <tbody>\n",
       "    <tr>\n",
       "      <th>0</th>\n",
       "      <td>C-ME: A 3D Community-Based, Real-Time Collaboration Tool for Scientific Research and Training</td>\n",
       "      <td>A Kolatkar</td>\n",
       "      <td><div>the need for effective collaboration tools is growing as  <font color='red'>multidisciplinary proteome-wide projects and distributed research teams become more common</font> .</div></td>\n",
       "      <td>0.681837</td>\n",
       "    </tr>\n",
       "    <tr>\n",
       "      <th>1</th>\n",
       "      <td>R E V I E W partnership: experiences of co-learning and supporting the healthcare system in Uganda</td>\n",
       "      <td>Open Access</td>\n",
       "      <td><div>  <font color='red'>training and research are a key focus of the partnership and have involved both staff and students of both institutions including guest lectures, seminars and conference presentations</font> .</div></td>\n",
       "      <td>0.592211</td>\n",
       "    </tr>\n",
       "    <tr>\n",
       "      <th>2</th>\n",
       "      <td>Emerging respiratory tract infections 2 Emerging infectious diseases and pandemic potential: status quo and reducing risk of global spread</td>\n",
       "      <td>Brian Mccloskey</td>\n",
       "      <td><div>  <font color='red'>collaboration between countries should be encouraged in a way that acknowledges the benefi ts that derive from sharing biological material and establishing equitable collaborative research partnerships</font> .</div></td>\n",
       "      <td>0.588500</td>\n",
       "    </tr>\n",
       "    <tr>\n",
       "      <th>3</th>\n",
       "      <td>Fogarty International Center collaborative networks in infectious disease modeling: Lessons learnt in research and capacity building</td>\n",
       "      <td>Martha Nelson</td>\n",
       "      <td><div> <font color='red'>due to a combination of ecological, political, and demographic factors, the emergence of novel pathogens has been increasingly observed in animals and humans in recent decades. enhancing global capacity to study and interpret infectious disease surveillance data, and to develop data-driven computational models to guide policy, represents one of the most cost-effective, and yet overlooked, ways to prepare for the next pandemic. epidemiological and behavioral data from recent pandemics and historic scourges have provided rich opportunities for validation of computational models, while new sequencing technologies and the ' big data ' revolution present new tools for studying the epidemiology of outbreaks in real time. for the past two decades, the division of international epidemiology and population studies (dieps) of the nih fogarty international center has spearheaded two synergistic programs to better understand and devise control strategies for global infectious disease threats. the multinational influenza seasonal mortality study (misms) has strengthened global capacity to study the epidemiology and evolutionary dynamics of influenza viruses in 80 countries by organizing international research activities and training workshops. the research and policy in infectious disease dynamics (rapidd) program and its precursor activities has established a network of global experts in infectious disease modeling operating at the research-policy interface, with collaborators in 78 countries. these activities have provided evidence-based recommendations for disease control, including during large-scale outbreaks of pandemic influenza, ebola and zika virus. together, these programs have coordinated international collaborative networks</font>  to advance the study of emerging disease threats and the field of computational epidemic modeling.</div></td>\n",
       "      <td>0.533397</td>\n",
       "    </tr>\n",
       "    <tr>\n",
       "      <th>4</th>\n",
       "      <td>A global bibliometric analysis of Plesiomonas- related research (1990 -2017)</td>\n",
       "      <td>Temitope Ekundayoid</td>\n",
       "      <td><div> here, we carried out a bibliometric survey that aimed to examine publication trends in plesiomonas-related research by time and place,  <font color='red'>international collaborative works</font> , identify gaps and suggest directions for future research.</div></td>\n",
       "      <td>0.502882</td>\n",
       "    </tr>\n",
       "  </tbody>\n",
       "</table>"
      ],
      "text/plain": [
       "<IPython.core.display.HTML object>"
      ]
     },
     "metadata": {},
     "output_type": "display_data"
    },
    {
     "name": "stderr",
     "output_type": "stream",
     "text": [
      "\n",
      "  0%|          | 0/9 [00:00<?, ?it/s]\u001b[AToken indices sequence length is longer than the specified maximum sequence length for this model (9063 > 512). Running this sequence through the model will result in indexing errors\n",
      "\n",
      " 11%|█         | 1/9 [00:47<06:21, 47.63s/it]\u001b[AToken indices sequence length is longer than the specified maximum sequence length for this model (3995 > 512). Running this sequence through the model will result in indexing errors\n",
      "\n",
      " 22%|██▏       | 2/9 [01:08<04:37, 39.60s/it]\u001b[AToken indices sequence length is longer than the specified maximum sequence length for this model (5146 > 512). Running this sequence through the model will result in indexing errors\n",
      "\n",
      " 33%|███▎      | 3/9 [01:35<03:34, 35.78s/it]\u001b[AToken indices sequence length is longer than the specified maximum sequence length for this model (5780 > 512). Running this sequence through the model will result in indexing errors\n",
      "\n",
      " 44%|████▍     | 4/9 [02:05<02:50, 34.18s/it]\u001b[AToken indices sequence length is longer than the specified maximum sequence length for this model (3170 > 512). Running this sequence through the model will result in indexing errors\n",
      "\n",
      " 56%|█████▌    | 5/9 [02:22<01:56, 29.03s/it]\u001b[AToken indices sequence length is longer than the specified maximum sequence length for this model (7117 > 512). Running this sequence through the model will result in indexing errors\n",
      "\n",
      " 67%|██████▋   | 6/9 [03:01<01:35, 31.78s/it]\u001b[AToken indices sequence length is longer than the specified maximum sequence length for this model (6362 > 512). Running this sequence through the model will result in indexing errors\n",
      "\n",
      " 78%|███████▊  | 7/9 [03:34<01:04, 32.41s/it]\u001b[AToken indices sequence length is longer than the specified maximum sequence length for this model (6534 > 512). Running this sequence through the model will result in indexing errors\n",
      "\n",
      " 89%|████████▉ | 8/9 [04:09<00:32, 32.99s/it]\u001b[AToken indices sequence length is longer than the specified maximum sequence length for this model (6728 > 512). Running this sequence through the model will result in indexing errors\n",
      "\n",
      "100%|██████████| 9/9 [04:45<00:00, 31.68s/it]\u001b[A\n"
     ]
    },
    {
     "data": {
      "text/html": [
       "<div style=\"font-family: Times New Roman; font-size: 28px; padding-bottom:28px\"><b>Query</b>: What collaborations are happening within the research community</div>"
      ],
      "text/plain": [
       "<IPython.core.display.HTML object>"
      ]
     },
     "metadata": {},
     "output_type": "display_data"
    },
    {
     "name": "stdout",
     "output_type": "stream",
     "text": [
      "Search with full paper\n"
     ]
    },
    {
     "data": {
      "text/html": [
       "<table border=\"1\" class=\"dataframe\">\n",
       "  <thead>\n",
       "    <tr style=\"text-align: right;\">\n",
       "      <th></th>\n",
       "      <th>Title</th>\n",
       "      <th>Authors</th>\n",
       "      <th>BERT-SQuAD Answer with Highlights</th>\n",
       "      <th>Confidence</th>\n",
       "    </tr>\n",
       "  </thead>\n",
       "  <tbody>\n",
       "    <tr>\n",
       "      <th>0</th>\n",
       "      <td>Fogarty International Center collaborative networks in infectious disease modeling: Lessons learnt in research and capacity building</td>\n",
       "      <td>Martha Nelson</td>\n",
       "      <td><div> <font color='red'>establishing strong international collaborative research networks</font> </div></td>\n",
       "      <td>0.668296</td>\n",
       "    </tr>\n",
       "    <tr>\n",
       "      <th>1</th>\n",
       "      <td>C-ME: A 3D Community-Based, Real-Time Collaboration Tool for Scientific Research and Training</td>\n",
       "      <td>A Kolatkar</td>\n",
       "      <td><div> 82 mb swf) <font color='red'>research teams are increasingly interdisciplinary and collaborative among laboratories in different departments and institutions located around the world</font> </div></td>\n",
       "      <td>0.593848</td>\n",
       "    </tr>\n",
       "  </tbody>\n",
       "</table>"
      ],
      "text/plain": [
       "<IPython.core.display.HTML object>"
      ]
     },
     "metadata": {},
     "output_type": "display_data"
    }
   ],
   "source": [
    "i = all_topics[7]\n",
    "Display_all(topic_area[i][0][0], topic_area[i][0][1], abst = True)\n",
    "Display_all(topic_area[i][0][0], topic_area[i][0][1], abst = False)"
   ]
  },
  {
   "cell_type": "code",
   "execution_count": 38,
   "metadata": {},
   "outputs": [
    {
     "name": "stderr",
     "output_type": "stream",
     "text": [
      "\n",
      "  0%|          | 0/10 [00:00<?, ?it/s]\u001b[A\n",
      " 10%|█         | 1/10 [00:00<00:08,  1.03it/s]\u001b[A\n",
      " 20%|██        | 2/10 [00:02<00:09,  1.16s/it]\u001b[A\n",
      " 30%|███       | 3/10 [00:04<00:09,  1.37s/it]\u001b[A\n",
      " 40%|████      | 4/10 [00:05<00:07,  1.30s/it]\u001b[A\n",
      " 50%|█████     | 5/10 [00:06<00:05,  1.12s/it]\u001b[A\n",
      " 60%|██████    | 6/10 [00:06<00:03,  1.00it/s]\u001b[A\n",
      " 70%|███████   | 7/10 [00:07<00:02,  1.17it/s]\u001b[A\n",
      " 80%|████████  | 8/10 [00:09<00:02,  1.11s/it]\u001b[A\n",
      " 90%|█████████ | 9/10 [00:10<00:01,  1.20s/it]\u001b[A\n",
      "100%|██████████| 10/10 [00:12<00:00,  1.25s/it]\u001b[A\n"
     ]
    },
    {
     "data": {
      "text/html": [
       "<div style=\"font-family: Times New Roman; font-size: 28px; padding-bottom:28px\"><b>Query</b>: What are the major ethical issues related pandemic outbreaks</div>"
      ],
      "text/plain": [
       "<IPython.core.display.HTML object>"
      ]
     },
     "metadata": {},
     "output_type": "display_data"
    },
    {
     "name": "stdout",
     "output_type": "stream",
     "text": [
      "Search with only Abstract\n"
     ]
    },
    {
     "data": {
      "text/html": [
       "<table border=\"1\" class=\"dataframe\">\n",
       "  <thead>\n",
       "    <tr style=\"text-align: right;\">\n",
       "      <th></th>\n",
       "      <th>Title</th>\n",
       "      <th>Authors</th>\n",
       "      <th>BERT-SQuAD Answer with Highlights</th>\n",
       "      <th>Confidence</th>\n",
       "    </tr>\n",
       "  </thead>\n",
       "  <tbody>\n",
       "    <tr>\n",
       "      <th>0</th>\n",
       "      <td>Ethics for pandemics beyond influenza: Ebola, drug- resistant tuberculosis, and anticipating future ethical challenges in pandemic preparedness and response</td>\n",
       "      <td>Maxwell Smith</td>\n",
       "      <td><div> <font color='red'>the unprecedented outbreak of ebola virus disease (evd) in west africa has raised several novel ethical issues for global outbreak preparedness. it has also illustrated that familiar ethical issues in infectious disease management endure despite considerable efforts to understand and mitigate such issues in the wake of past outbreaks. to improve future global outbreak preparedness and response, we must examine these shortcomings and reflect upon the current state of ethical preparedness. to this end, we focus our efforts in this article on the examination of one substantial area : ethical guidance in pandemic plans. we argue that, due in part to their focus on considerations arising specifically in relation to pandemics of influenza origin, pandemic plans and their existing ethical guidance are ill-equipped to anticipate and facilitate the navigation of unique ethical challenges that may arise in other infectious disease pandemics. we proceed by outlining three reasons why this is so, and situate our analysis in the context of the evd outbreak and the threat posed by drug-resistant tuberculosis : (1) different infectious diseases have distinct characteristics that challenge anticipated or existing modes of pandemic prevention, preparedness, response, and recovery</font> , (2) clear, transparent, context-specific ethical reasoning and justification within current influenza pandemic plans are lacking, and (3) current plans neglect the context of how other significant pandemics may manifest.</div></td>\n",
       "      <td>0.710840</td>\n",
       "    </tr>\n",
       "    <tr>\n",
       "      <th>1</th>\n",
       "      <td>Risk Management and Healthcare Policy Dovepress Critical role of ethics in clinical management and public health response to the West Africa Ebola epidemic</td>\n",
       "      <td>Morenike Folayan</td>\n",
       "      <td><div> ethical issues related to prevention and containment include the  <font color='red'>appropriateness and scope of quarantine and isolation within and outside affected countries</font> .</div></td>\n",
       "      <td>0.689570</td>\n",
       "    </tr>\n",
       "    <tr>\n",
       "      <th>2</th>\n",
       "      <td>Special Issue Pandethics</td>\n",
       "      <td>M Selgelid</td>\n",
       "      <td><div>this paper explains the ethical importance of infectious diseases, and reviews four major ethical issues associated with pandemic influenza :  <font color='red'>the obligation of individuals to avoid infecting others, healthcare workers ' ' duty to treat ', allocation of scarce resources, and coercive social distancing measures</font> .</div></td>\n",
       "      <td>0.659091</td>\n",
       "    </tr>\n",
       "    <tr>\n",
       "      <th>3</th>\n",
       "      <td>The prospect of pandemic influenza: Why should the optometrist be concerned about a public health problem?</td>\n",
       "      <td>Gregory Hom</td>\n",
       "      <td><div> the  <font color='red'>ethical and legal issues surrounding control of a pandemic influenza</font>  and the prospect of telemedicine as a form of social distancing are also discussed.</div></td>\n",
       "      <td>0.639385</td>\n",
       "    </tr>\n",
       "    <tr>\n",
       "      <th>4</th>\n",
       "      <td>BMC Medical Ethics On pandemics and the duty to care: whose duty? who cares?</td>\n",
       "      <td>Carly Ruderman</td>\n",
       "      <td><div> despite this challenge,  <font color='red'>professional codes of ethics are silent on the issue of duty to care during communicable disease outbreaks</font> , thus providing no guidance on what is expected of hcps or how they ought to approach their duty to care in the face of risk.</div></td>\n",
       "      <td>0.615739</td>\n",
       "    </tr>\n",
       "    <tr>\n",
       "      <th>5</th>\n",
       "      <td>653-662 Lor et al</td>\n",
       "      <td>Aun Lor</td>\n",
       "      <td><div> methods : we reviewed the meeting reports, notes and stories and mapped outcomes to the key ethical challenges for pandemic influenza response described in the world health organization ' s (who ' s) guidance, ethical considerations in developing a public health response to pandemic influenza :  <font color='red'>transparency and public engagement, allocation of resources, social distancing, obligations to and of healthcare workers, and international collaboration</font> .</div></td>\n",
       "      <td>0.605742</td>\n",
       "    </tr>\n",
       "    <tr>\n",
       "      <th>6</th>\n",
       "      <td>The duty to care in an influenza pandemic: A qualitative study of Canadian public perspectives</td>\n",
       "      <td>Cécile Bensimon</td>\n",
       "      <td><div> this study involved three townhall meetings held between february 2008 and may 2010 in three urban settings in canada in order to probe lay citizens ' views about ethical issues related to pandemic influenza, including  <font color='red'>issues surrounding the duty to care</font> .</div></td>\n",
       "      <td>0.492084</td>\n",
       "    </tr>\n",
       "    <tr>\n",
       "      <th>7</th>\n",
       "      <td>Fight or Flight: The Ethics of Emergency Physician Disaster Response</td>\n",
       "      <td>Kenneth Iserson</td>\n",
       "      <td><div> however, we need to ask :  <font color='red'>should they, and will they, work rather than flee</font>  ?</div></td>\n",
       "      <td>0.278741</td>\n",
       "    </tr>\n",
       "  </tbody>\n",
       "</table>"
      ],
      "text/plain": [
       "<IPython.core.display.HTML object>"
      ]
     },
     "metadata": {},
     "output_type": "display_data"
    },
    {
     "name": "stderr",
     "output_type": "stream",
     "text": [
      "\n",
      "  0%|          | 0/10 [00:00<?, ?it/s]\u001b[AToken indices sequence length is longer than the specified maximum sequence length for this model (4292 > 512). Running this sequence through the model will result in indexing errors\n",
      "\n",
      " 10%|█         | 1/10 [00:22<03:21, 22.44s/it]\u001b[AToken indices sequence length is longer than the specified maximum sequence length for this model (6534 > 512). Running this sequence through the model will result in indexing errors\n",
      "\n",
      " 20%|██        | 2/10 [00:56<03:27, 25.96s/it]\u001b[AToken indices sequence length is longer than the specified maximum sequence length for this model (7944 > 512). Running this sequence through the model will result in indexing errors\n",
      "\n",
      " 30%|███       | 3/10 [01:39<03:37, 31.01s/it]\u001b[AToken indices sequence length is longer than the specified maximum sequence length for this model (11056 > 512). Running this sequence through the model will result in indexing errors\n",
      "\n",
      " 40%|████      | 4/10 [02:38<03:57, 39.53s/it]\u001b[AToken indices sequence length is longer than the specified maximum sequence length for this model (6189 > 512). Running this sequence through the model will result in indexing errors\n",
      "\n",
      " 50%|█████     | 5/10 [03:12<03:08, 37.68s/it]\u001b[AToken indices sequence length is longer than the specified maximum sequence length for this model (4853 > 512). Running this sequence through the model will result in indexing errors\n",
      "\n",
      " 60%|██████    | 6/10 [03:37<02:16, 34.04s/it]\u001b[AToken indices sequence length is longer than the specified maximum sequence length for this model (7145 > 512). Running this sequence through the model will result in indexing errors\n",
      "\n",
      " 70%|███████   | 7/10 [04:15<01:45, 35.18s/it]\u001b[AToken indices sequence length is longer than the specified maximum sequence length for this model (7046 > 512). Running this sequence through the model will result in indexing errors\n",
      "\n",
      " 80%|████████  | 8/10 [04:52<01:11, 35.73s/it]\u001b[AToken indices sequence length is longer than the specified maximum sequence length for this model (7998 > 512). Running this sequence through the model will result in indexing errors\n",
      "\n",
      " 90%|█████████ | 9/10 [05:34<00:37, 37.71s/it]\u001b[AToken indices sequence length is longer than the specified maximum sequence length for this model (5671 > 512). Running this sequence through the model will result in indexing errors\n",
      "\n",
      "100%|██████████| 10/10 [06:04<00:00, 36.46s/it]\u001b[A\n"
     ]
    },
    {
     "data": {
      "text/html": [
       "<div style=\"font-family: Times New Roman; font-size: 28px; padding-bottom:28px\"><b>Query</b>: What are the major ethical issues related pandemic outbreaks</div>"
      ],
      "text/plain": [
       "<IPython.core.display.HTML object>"
      ]
     },
     "metadata": {},
     "output_type": "display_data"
    },
    {
     "name": "stdout",
     "output_type": "stream",
     "text": [
      "Search with full paper\n"
     ]
    },
    {
     "data": {
      "text/html": [
       "<table border=\"1\" class=\"dataframe\">\n",
       "  <thead>\n",
       "    <tr style=\"text-align: right;\">\n",
       "      <th></th>\n",
       "      <th>Title</th>\n",
       "      <th>Authors</th>\n",
       "      <th>BERT-SQuAD Answer with Highlights</th>\n",
       "      <th>Confidence</th>\n",
       "    </tr>\n",
       "  </thead>\n",
       "  <tbody>\n",
       "    <tr>\n",
       "      <th>0</th>\n",
       "      <td>The prospect of pandemic influenza: Why should the optometrist be concerned about a public health problem?</td>\n",
       "      <td>Gregory Hom</td>\n",
       "      <td><div> <font color='red'>extreme measures that may be required to quickly control a deadly virus</font> </div></td>\n",
       "      <td>0.532387</td>\n",
       "    </tr>\n",
       "    <tr>\n",
       "      <th>1</th>\n",
       "      <td>Ethics for pandemics beyond influenza: Ebola, drug- resistant tuberculosis, and anticipating future ethical challenges in pandemic preparedness and response</td>\n",
       "      <td>Maxwell Smith</td>\n",
       "      <td><div> <font color='red'>testing investigational agents in vaccine trials</font> </div></td>\n",
       "      <td>0.507242</td>\n",
       "    </tr>\n",
       "    <tr>\n",
       "      <th>2</th>\n",
       "      <td>Special Issue Pandethics</td>\n",
       "      <td>M Selgelid</td>\n",
       "      <td><div> <font color='red'>the obligation of individuals to avoid infecting others, healthcare workers ' ' duty to treat ', allocation of scarce resources, and the use of coercive social distancing measures</font> </div></td>\n",
       "      <td>0.487058</td>\n",
       "    </tr>\n",
       "    <tr>\n",
       "      <th>3</th>\n",
       "      <td>Ethics-sensitivity of the Ghana national integrated strategic response plan for pandemic influenza</td>\n",
       "      <td>Amos Laar</td>\n",
       "      <td><div> <font color='red'>recurring tension in public health between the rights of individual liberties versus public health promotion</font> </div></td>\n",
       "      <td>0.431597</td>\n",
       "    </tr>\n",
       "    <tr>\n",
       "      <th>4</th>\n",
       "      <td>653-662 Lor et al</td>\n",
       "      <td>Aun Lor</td>\n",
       "      <td><div> <font color='red'>low literacy level, poverty, and trust of and / or deference to health authorities</font> </div></td>\n",
       "      <td>0.405956</td>\n",
       "    </tr>\n",
       "    <tr>\n",
       "      <th>5</th>\n",
       "      <td>Risk Management and Healthcare Policy Dovepress Critical role of ethics in clinical management and public health response to the West Africa Ebola epidemic</td>\n",
       "      <td>Morenike Folayan</td>\n",
       "      <td><div> the authors report no conflicts of interest in this work <font color='red'>informed consent</font> </div></td>\n",
       "      <td>0.278898</td>\n",
       "    </tr>\n",
       "    <tr>\n",
       "      <th>6</th>\n",
       "      <td>BMC Medical Ethics On pandemics and the duty to care: whose duty? who cares?</td>\n",
       "      <td>Carly Ruderman</td>\n",
       "      <td><div> <font color='red'>physicians ' duty to care</font> </div></td>\n",
       "      <td>0.276583</td>\n",
       "    </tr>\n",
       "    <tr>\n",
       "      <th>7</th>\n",
       "      <td>Fight or Flight: The Ethics of Emergency Physician Disaster Response</td>\n",
       "      <td>Kenneth Iserson</td>\n",
       "      <td><div> <font color='red'>professional ethical statements about expected conduct establish important professional expectations and norms</font> </div></td>\n",
       "      <td>0.275383</td>\n",
       "    </tr>\n",
       "    <tr>\n",
       "      <th>8</th>\n",
       "      <td>The duty to care in an influenza pandemic: A qualitative study of Canadian public perspectives</td>\n",
       "      <td>Cécile Bensimon</td>\n",
       "      <td><div> <font color='red'>issues surrounding the duty to care</font> </div></td>\n",
       "      <td>0.208956</td>\n",
       "    </tr>\n",
       "    <tr>\n",
       "      <th>9</th>\n",
       "      <td>Pandémie grippale A/H5N1 et niveau de préparation du Niger : une étude sur les connaissances des soignants et l'organisation générale des soins Preparedness for influenza A/H5N1 pandemic in Niger: a study on health care workers' knowledge and global organization of health activities</td>\n",
       "      <td>E D&apos;</td>\n",
       "      <td><div> <font color='red'>differences economiques et sanitaires sont essentielles, puisque plus encore qu ' auparavant, a l ' heure de la mondialisation, les pathogenes se jouent des frontieres</font> </div></td>\n",
       "      <td>0.139903</td>\n",
       "    </tr>\n",
       "  </tbody>\n",
       "</table>"
      ],
      "text/plain": [
       "<IPython.core.display.HTML object>"
      ]
     },
     "metadata": {},
     "output_type": "display_data"
    }
   ],
   "source": [
    "i = all_topics[8]\n",
    "Display_all(topic_area[i][0][0], topic_area[i][0][1], abst = True)\n",
    "Display_all(topic_area[i][0][0], topic_area[i][0][1], abst = False)"
   ]
  },
  {
   "cell_type": "code",
   "execution_count": null,
   "metadata": {},
   "outputs": [],
   "source": []
  }
 ],
 "metadata": {
  "kernelspec": {
   "display_name": "Python 3",
   "language": "python",
   "name": "python3"
  },
  "language_info": {
   "codemirror_mode": {
    "name": "ipython",
    "version": 3
   },
   "file_extension": ".py",
   "mimetype": "text/x-python",
   "name": "python",
   "nbconvert_exporter": "python",
   "pygments_lexer": "ipython3",
   "version": "3.7.6"
  }
 },
 "nbformat": 4,
 "nbformat_minor": 4
}
